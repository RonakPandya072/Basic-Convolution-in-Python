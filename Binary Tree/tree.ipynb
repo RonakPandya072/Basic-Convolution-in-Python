{
  "nbformat": 4,
  "nbformat_minor": 0,
  "metadata": {
    "colab": {
      "name": "tree.ipynb",
      "provenance": [],
      "collapsed_sections": [],
      "authorship_tag": "ABX9TyMhSlUp0hrFIfXAkt8BjpKj",
      "include_colab_link": true
    },
    "kernelspec": {
      "name": "python3",
      "display_name": "Python 3"
    },
    "language_info": {
      "name": "python"
    }
  },
  "cells": [
    {
      "cell_type": "markdown",
      "metadata": {
        "id": "view-in-github",
        "colab_type": "text"
      },
      "source": [
        "<a href=\"https://colab.research.google.com/github/RonakPandya072/Basic-Convolution-in-Python/blob/main/Binary%20Tree/tree.ipynb\" target=\"_parent\"><img src=\"https://colab.research.google.com/assets/colab-badge.svg\" alt=\"Open In Colab\"/></a>"
      ]
    },
    {
      "cell_type": "code",
      "execution_count": 6,
      "metadata": {
        "id": "5p7vHsMeCJRa"
      },
      "outputs": [],
      "source": [
        "class TreeNode:\n",
        "  def __init__(self,data):\n",
        "    self.data = data\n",
        "    self.left = None\n",
        "    self.right = None"
      ]
    },
    {
      "cell_type": "code",
      "source": [
        "root = TreeNode(1)\n",
        "root.left = TreeNode(2)\n",
        "root.right = TreeNode(3)\n",
        "root.left.left = TreeNode(4)\n",
        "root.left.right = TreeNode(5)\n",
        "root.right.left = TreeNode(6)\n",
        "root.right.right = TreeNode(7)"
      ],
      "metadata": {
        "id": "QOjqxevgDU70"
      },
      "execution_count": 9,
      "outputs": []
    },
    {
      "cell_type": "code",
      "source": [
        "def binaryTree():\n",
        "  root = TreeNode(1)\n",
        "  root.left = TreeNode(2)\n",
        "  root.right = TreeNode(3)\n",
        "  root.left.left = TreeNode(4)\n",
        "  root.left.right = TreeNode(5)\n",
        "  root.right.left = TreeNode(6)\n",
        "  root.right.right = TreeNode(7)\n",
        "  return root"
      ],
      "metadata": {
        "id": "YCUavvrDKY46"
      },
      "execution_count": 7,
      "outputs": []
    },
    {
      "cell_type": "code",
      "source": [
        "root = binaryTree()"
      ],
      "metadata": {
        "id": "R8bX65pFKj62"
      },
      "execution_count": 8,
      "outputs": []
    },
    {
      "cell_type": "markdown",
      "source": [
        "**Preorder, inorder, postorder traversal**"
      ],
      "metadata": {
        "id": "_Ibg0473IJqB"
      }
    },
    {
      "cell_type": "code",
      "source": [
        "def preorder(root):\n",
        "  if root is None:\n",
        "    return\n",
        "  print(root.data)\n",
        "  preorder(root.left)\n",
        "  preorder(root.right)"
      ],
      "metadata": {
        "id": "P4rsmUHoIEw1"
      },
      "execution_count": null,
      "outputs": []
    },
    {
      "cell_type": "code",
      "source": [
        "def preorder_iterative(root):\n",
        "  #using stack data structure\n",
        "  stack = [root]\n",
        "  preorder=[]\n",
        "  while stack:\n",
        "    curr_node = stack[-1]\n",
        "    preorder.append(curr_node.data)\n",
        "    stack.pop()\n",
        "    if curr_node.right:\n",
        "      stack.append(curr_node.right)\n",
        "    if curr_node.left:\n",
        "      stack.append(curr_node.left)\n",
        "  return preorder"
      ],
      "metadata": {
        "id": "aGK52jvQ4kTM"
      },
      "execution_count": null,
      "outputs": []
    },
    {
      "cell_type": "code",
      "source": [
        "preorder_iterative(root)"
      ],
      "metadata": {
        "colab": {
          "base_uri": "https://localhost:8080/"
        },
        "id": "nIhfzwD0EjuZ",
        "outputId": "63c620d1-06d1-4c8e-f19e-6652b9df02eb"
      },
      "execution_count": null,
      "outputs": [
        {
          "output_type": "execute_result",
          "data": {
            "text/plain": [
              "[1, 2, 4, 5, 3, 6, 7]"
            ]
          },
          "metadata": {},
          "execution_count": 35
        }
      ]
    },
    {
      "cell_type": "code",
      "source": [
        "preorder(root)"
      ],
      "metadata": {
        "colab": {
          "base_uri": "https://localhost:8080/"
        },
        "id": "86A2bBZdIitK",
        "outputId": "d83de4b3-d9c2-4bae-e3ff-145c6ae8d1ee"
      },
      "execution_count": null,
      "outputs": [
        {
          "output_type": "stream",
          "name": "stdout",
          "text": [
            "1\n",
            "2\n",
            "4\n",
            "5\n",
            "3\n",
            "6\n",
            "7\n"
          ]
        }
      ]
    },
    {
      "cell_type": "code",
      "source": [
        "def inorder(root):\n",
        "  if root is None:\n",
        "    return\n",
        "  inorder(root.left)\n",
        "  print(root.data)\n",
        "  inorder(root.right)"
      ],
      "metadata": {
        "id": "iyU3MwaKIlvG"
      },
      "execution_count": null,
      "outputs": []
    },
    {
      "cell_type": "code",
      "source": [
        "inorder(root)"
      ],
      "metadata": {
        "colab": {
          "base_uri": "https://localhost:8080/"
        },
        "id": "opVvGHy6Ksj7",
        "outputId": "3ad71460-d4d5-41ed-a21b-0e37ce49efaf"
      },
      "execution_count": null,
      "outputs": [
        {
          "output_type": "stream",
          "name": "stdout",
          "text": [
            "4\n",
            "2\n",
            "5\n",
            "1\n",
            "6\n",
            "3\n",
            "7\n"
          ]
        }
      ]
    },
    {
      "cell_type": "code",
      "source": [
        "def inorder_iterative(root):\n",
        "  stack = []\n",
        "  path = []\n",
        "  while True:\n",
        "    if root:\n",
        "      stack.append(root)\n",
        "      root = root.left\n",
        "    else:\n",
        "      if not stack:\n",
        "        break\n",
        "      root = stack[-1]\n",
        "      stack.pop()\n",
        "      path.append(root.data)\n",
        "      root = root.right\n",
        "  return path"
      ],
      "metadata": {
        "id": "ek0YZWCz6tTs"
      },
      "execution_count": null,
      "outputs": []
    },
    {
      "cell_type": "code",
      "source": [
        "inorder_iterative(root)"
      ],
      "metadata": {
        "colab": {
          "base_uri": "https://localhost:8080/"
        },
        "id": "0c6FsYtzBMXd",
        "outputId": "cadb3671-61e5-4bb2-f4e1-bd47bd981715"
      },
      "execution_count": null,
      "outputs": [
        {
          "output_type": "execute_result",
          "data": {
            "text/plain": [
              "[4, 2, 5, 1, 6, 3, 7]"
            ]
          },
          "metadata": {},
          "execution_count": 33
        }
      ]
    },
    {
      "cell_type": "code",
      "source": [
        "def postorder(root):\n",
        "  if root is None:\n",
        "    return \n",
        "  postorder(root.left)\n",
        "  postorder(root.right)\n",
        "  print(root.data)"
      ],
      "metadata": {
        "id": "HpTwtsvsKuI9"
      },
      "execution_count": null,
      "outputs": []
    },
    {
      "cell_type": "code",
      "source": [
        "def postorder_iterative(root):\n",
        "  stack=[root]\n",
        "  postorder=[]\n",
        "  while stack:\n",
        "    curr_node = stack[-1]\n",
        "    stack.pop()\n",
        "    postorder.append(curr_node.data)\n",
        "    if curr_node.left:\n",
        "      stack.append(curr_node.left)\n",
        "    if curr_node.right:\n",
        "      stack.append(curr_node.right)\n",
        "  return postorder[::-1]"
      ],
      "metadata": {
        "id": "fF0f33NgEvaf"
      },
      "execution_count": null,
      "outputs": []
    },
    {
      "cell_type": "code",
      "source": [
        "postorder_iterative(root)"
      ],
      "metadata": {
        "colab": {
          "base_uri": "https://localhost:8080/"
        },
        "id": "RnbIIYlOhCei",
        "outputId": "23157835-bf83-40c4-842f-60dc33c86b60"
      },
      "execution_count": null,
      "outputs": [
        {
          "output_type": "execute_result",
          "data": {
            "text/plain": [
              "[4, 5, 2, 6, 7, 3, 1]"
            ]
          },
          "metadata": {},
          "execution_count": 8
        }
      ]
    },
    {
      "cell_type": "code",
      "source": [
        "postorder(root)"
      ],
      "metadata": {
        "colab": {
          "base_uri": "https://localhost:8080/"
        },
        "id": "xgCVGpSGLX4_",
        "outputId": "be19f5e2-9962-494e-9487-63f282d74158"
      },
      "execution_count": null,
      "outputs": [
        {
          "output_type": "stream",
          "name": "stdout",
          "text": [
            "4\n",
            "5\n",
            "2\n",
            "6\n",
            "7\n",
            "3\n",
            "1\n"
          ]
        }
      ]
    },
    {
      "cell_type": "markdown",
      "source": [
        "**level order traversel**"
      ],
      "metadata": {
        "id": "2S4qT-vEL-b0"
      }
    },
    {
      "cell_type": "code",
      "source": [
        "def levelorder(root):\n",
        "  queue = [root]\n",
        "  ans = []\n",
        "  while queue:\n",
        "    n = len(queue)\n",
        "    level_order=[]\n",
        "    for i in range(n):\n",
        "      curr_node = queue[0]\n",
        "      queue.pop(0)\n",
        "      if curr_node.left:\n",
        "       queue.append(curr_node.left)\n",
        "      if curr_node.right:\n",
        "       queue.append(curr_node.right)\n",
        "      level_order.append(curr_node.data)\n",
        "    ans.append(level_order)\n",
        "  return ans "
      ],
      "metadata": {
        "id": "eVgDYVNcLZ3R"
      },
      "execution_count": null,
      "outputs": []
    },
    {
      "cell_type": "code",
      "source": [
        "levelorder=levelorder(root)"
      ],
      "metadata": {
        "id": "WaRU5AaSUcJD"
      },
      "execution_count": null,
      "outputs": []
    },
    {
      "cell_type": "code",
      "source": [
        "levelorder"
      ],
      "metadata": {
        "id": "ZHcfvEl6hn8j",
        "outputId": "78b77c74-192e-4e4d-8f2e-3cf3b69e86fa",
        "colab": {
          "base_uri": "https://localhost:8080/"
        }
      },
      "execution_count": null,
      "outputs": [
        {
          "output_type": "execute_result",
          "data": {
            "text/plain": [
              "[[1], [2, 3], [4, 5, 6, 7]]"
            ]
          },
          "metadata": {},
          "execution_count": 15
        }
      ]
    },
    {
      "cell_type": "markdown",
      "source": [
        "**depth of the tree**"
      ],
      "metadata": {
        "id": "lbkpR3IBPZag"
      }
    },
    {
      "cell_type": "code",
      "source": [
        "def tree_height(root):\n",
        "  if not root:\n",
        "    return 0\n",
        "  left = tree_height(root.left)\n",
        "  right = tree_height(root.right)\n",
        "  height = 1+max(left,right)\n",
        "\n",
        "  return height"
      ],
      "metadata": {
        "id": "v-ZevgJkU6qA"
      },
      "execution_count": null,
      "outputs": []
    },
    {
      "cell_type": "code",
      "source": [
        "tree_height(root)"
      ],
      "metadata": {
        "colab": {
          "base_uri": "https://localhost:8080/"
        },
        "id": "1DDaPgNDVnWr",
        "outputId": "4fca4343-5759-44a0-f293-77f8157a3116"
      },
      "execution_count": null,
      "outputs": [
        {
          "output_type": "execute_result",
          "data": {
            "text/plain": [
              "3"
            ]
          },
          "metadata": {},
          "execution_count": 6
        }
      ]
    },
    {
      "cell_type": "markdown",
      "source": [
        "**Check for balanced binary tree**"
      ],
      "metadata": {
        "id": "AlWhTD-xbX0Z"
      }
    },
    {
      "cell_type": "markdown",
      "source": [
        "Note: \n",
        "Full binary tree --> either 0 or 2 nodes at the leaf node\n",
        "\n",
        "complete tree --> Full + last layer left to right \n",
        "\n",
        "perfect tree --> All leaf node at same level\n",
        "\n",
        "balanced tree --> Max height = ln(N) where N is number of nodes OR in other words absolute difference of left subtree and right sub tree shound **not be >1**\n",
        "\n",
        "degenerated tree --> skewed tree"
      ],
      "metadata": {
        "id": "Cx5KUL3qbfEY"
      }
    },
    {
      "cell_type": "code",
      "source": [
        "def solve(root):\n",
        "  if not root:\n",
        "    return 0\n",
        "  left_tree = tree_height(root.left)\n",
        "  if left_tree == -1:\n",
        "    return -1\n",
        "  right_tree = tree_height(root.right)\n",
        "  if right_tree == -1:\n",
        "    return -1\n",
        "  if abs(left_tree - right_tree) > 1:\n",
        "    return -1\n",
        "\n",
        "def is_balanced(root):\n",
        "  result = solve(root)\n",
        "  if result == -1:\n",
        "    return False\n",
        "  \n",
        "  return True"
      ],
      "metadata": {
        "id": "50z0MDM5bRNX"
      },
      "execution_count": null,
      "outputs": []
    },
    {
      "cell_type": "code",
      "source": [
        "is_balanced(root)"
      ],
      "metadata": {
        "colab": {
          "base_uri": "https://localhost:8080/"
        },
        "id": "Gy3oeXYejUtr",
        "outputId": "d4ddd0af-2482-4748-ca2b-ceb65aebb9b9"
      },
      "execution_count": null,
      "outputs": [
        {
          "output_type": "execute_result",
          "data": {
            "text/plain": [
              "True"
            ]
          },
          "metadata": {},
          "execution_count": 14
        }
      ]
    },
    {
      "cell_type": "code",
      "source": [
        "Root = TreeNode(1)\n",
        "Root.left = TreeNode(2)\n",
        "Root.right = TreeNode(3)\n",
        "Root.left.left = TreeNode(4)\n",
        "Root.left.right = TreeNode(5)\n",
        "Root.left.left.left = TreeNode(6)\n",
        "Root.left.left.right = TreeNode(7)"
      ],
      "metadata": {
        "id": "5zA2QPhujW9A"
      },
      "execution_count": null,
      "outputs": []
    },
    {
      "cell_type": "code",
      "source": [
        "is_balanced(Root)"
      ],
      "metadata": {
        "id": "9JBbslQsjnkR",
        "outputId": "e91a564a-ec16-4ffd-a834-df09251bd2a0",
        "colab": {
          "base_uri": "https://localhost:8080/"
        }
      },
      "execution_count": null,
      "outputs": [
        {
          "output_type": "execute_result",
          "data": {
            "text/plain": [
              "False"
            ]
          },
          "metadata": {},
          "execution_count": 16
        }
      ]
    },
    {
      "cell_type": "markdown",
      "source": [
        "**Diameter of binary tree**"
      ],
      "metadata": {
        "id": "Cv6vH71Jb0UZ"
      }
    },
    {
      "cell_type": "code",
      "source": [
        "def height(root):\n",
        "  if not root:\n",
        "    return 0\n",
        "  \n",
        "  return 1+max(height(root.left), height(root.right))\n",
        "\n",
        "def Diameter(root):\n",
        "  if not root:\n",
        "    return 0\n",
        "  lheight = height(root.left)\n",
        "  rheight = height(root.right)\n",
        "\n",
        "  ldiameter = Diameter(root.left)\n",
        "  rdiameter = Diameter(root.right)\n",
        "\n",
        "  return max(1+lheight+rheight,max(ldiameter,rdiameter))"
      ],
      "metadata": {
        "id": "v3kQ-2engVZL"
      },
      "execution_count": null,
      "outputs": []
    },
    {
      "cell_type": "code",
      "source": [
        "Diameter(root)"
      ],
      "metadata": {
        "colab": {
          "base_uri": "https://localhost:8080/"
        },
        "id": "bYNqbMhxpf3I",
        "outputId": "aebd6a7a-c8ae-426b-c108-72016b4a6ce2"
      },
      "execution_count": null,
      "outputs": [
        {
          "output_type": "execute_result",
          "data": {
            "text/plain": [
              "5"
            ]
          },
          "metadata": {},
          "execution_count": 12
        }
      ]
    },
    {
      "cell_type": "markdown",
      "source": [
        "**Maximum path sum in binary tree**"
      ],
      "metadata": {
        "id": "6ZBHC-CAuf_B"
      }
    },
    {
      "cell_type": "code",
      "source": [
        "def max_sum(root):\n",
        "  maxsum = [0]\n",
        "  solve(root, maxsum)\n",
        "  \n",
        "  return maxsum\n",
        "\n",
        "def solve(root, maxsum):\n",
        "  if not root:\n",
        "    return 0\n",
        "\n",
        "  l_sum = solve(root.left, maxsum)\n",
        "  if l_sum < 0:\n",
        "    l_sum = 0\n",
        "  r_sum = solve(root.right, maxsum)\n",
        "  if r_sum < 0:\n",
        "    r_sum = 0\n",
        "  maxsum[0] = max(maxsum[0], root.data+l_sum+r_sum)\n",
        "  \n",
        "  return root.data + max(l_sum,r_sum)"
      ],
      "metadata": {
        "id": "rnR7JGtbpigG"
      },
      "execution_count": null,
      "outputs": []
    },
    {
      "cell_type": "code",
      "source": [
        "max_sum(root)"
      ],
      "metadata": {
        "colab": {
          "base_uri": "https://localhost:8080/"
        },
        "id": "Vt3p2Pt84zOr",
        "outputId": "ce338c2c-8525-4449-91cd-f68eaf15b30a"
      },
      "execution_count": null,
      "outputs": [
        {
          "output_type": "execute_result",
          "data": {
            "text/plain": [
              "[18]"
            ]
          },
          "metadata": {},
          "execution_count": 21
        }
      ]
    },
    {
      "cell_type": "markdown",
      "source": [
        "**Check if two trees are identical or not**"
      ],
      "metadata": {
        "id": "jkJPzQ57qSgl"
      }
    },
    {
      "cell_type": "code",
      "source": [
        "def identical_tree(root1,root2):\n",
        "  path1, path2 = [],[]\n",
        "  result1 = pre_order(root1,path1)\n",
        "  result2 = pre_order(root2,path2)\n",
        "  for v1, v2 in zip(result1,result2):\n",
        "    if v1!=v2:\n",
        "      return False\n",
        "    return True\n",
        "\n",
        "def pre_order(root,path):\n",
        "  if not root:\n",
        "    return \n",
        "  path.append(root.data)\n",
        "  pre_order(root.left)\n",
        "  pre_order(root.right)\n",
        "  "
      ],
      "metadata": {
        "id": "7Y4ygxgc40y7"
      },
      "execution_count": null,
      "outputs": []
    },
    {
      "cell_type": "code",
      "source": [
        "identical_tree(root,Root)"
      ],
      "metadata": {
        "colab": {
          "base_uri": "https://localhost:8080/"
        },
        "id": "R4XK6GvsvDgW",
        "outputId": "83f13e33-69b1-4b01-ecfb-137fa7ee99f8"
      },
      "execution_count": null,
      "outputs": [
        {
          "output_type": "execute_result",
          "data": {
            "text/plain": [
              "False"
            ]
          },
          "metadata": {},
          "execution_count": 9
        }
      ]
    },
    {
      "cell_type": "code",
      "source": [
        "def spiralOrder(root):\n",
        "  queue=[root]\n",
        "  ans=[]\n",
        "  while queue:\n",
        "    n = len(queue)\n",
        "    level_order=[]\n",
        "    for i in range(n):\n",
        "      curr_node = queue[0]\n",
        "      queue.pop(0)\n",
        "      if curr_node.left:\n",
        "        queue.append(curr_node.left)\n",
        "      if curr_node.right:\n",
        "        queue.append(curr_node.right)\n",
        "      level_order.append(curr_node.data)\n",
        "    ans.append(level_order)\n",
        "  for i in range(1,len(ans),2):\n",
        "    ans[i] = ans[i][::-1]\n",
        "  return ans"
      ],
      "metadata": {
        "id": "YRRNEljEvBGj"
      },
      "execution_count": null,
      "outputs": []
    },
    {
      "cell_type": "code",
      "source": [
        "spiralOrder(root)"
      ],
      "metadata": {
        "colab": {
          "base_uri": "https://localhost:8080/"
        },
        "id": "iflLJwj00Cu3",
        "outputId": "72b3f802-3823-46b8-9a80-5f3fd3e9e703"
      },
      "execution_count": null,
      "outputs": [
        {
          "output_type": "execute_result",
          "data": {
            "text/plain": [
              "[[1], [3, 2], [4, 5, 6, 7]]"
            ]
          },
          "metadata": {},
          "execution_count": 33
        }
      ]
    },
    {
      "cell_type": "markdown",
      "source": [
        "**Boundary traversal of binary tree**"
      ],
      "metadata": {
        "id": "OP_VGARR1uUf"
      }
    },
    {
      "cell_type": "code",
      "source": [
        "def boundaryTraversal(root):\n",
        "  path=[]\n",
        "  if root is None:\n",
        "    return path\n",
        "  if root:\n",
        "    path.append(root.data)\n",
        "  leftBoundary(root.left,path)\n",
        "  leafnodes(root,path)\n",
        "  rightBoundary(root.right,path)\n",
        "  return path\n",
        "\n",
        "def leftBoundary(root,path):\n",
        "  while root:\n",
        "    if root.left or root.right:\n",
        "      path.append(root.data)\n",
        "    if root.left:\n",
        "      root = root.left\n",
        "    else:\n",
        "      root = root.right    \n",
        "\n",
        "def leafnodes(root,path):\n",
        "  if root.left is None and root.right is None:\n",
        "    path.append(root.data)\n",
        "    return\n",
        "  if root.left:\n",
        "    leafnodes(root.left,path)\n",
        "  if root.right:\n",
        "    leafnodes(root.right,path)\n",
        "\n",
        "def rightBoundary(root,path):\n",
        "  temp=[]\n",
        "  while root:\n",
        "    if root.left or root.right:\n",
        "      temp.append(root.data)\n",
        "    if root.right:\n",
        "      root = root.right\n",
        "    else:\n",
        "      root = root.left\n",
        "  for i in range(len(temp)):\n",
        "    path.append(temp.pop())\n",
        "\n",
        "  "
      ],
      "metadata": {
        "id": "exibCZMo0E7n"
      },
      "execution_count": null,
      "outputs": []
    },
    {
      "cell_type": "code",
      "source": [
        "boundaryTraversal(root)"
      ],
      "metadata": {
        "colab": {
          "base_uri": "https://localhost:8080/"
        },
        "id": "b7Uk0O85_S07",
        "outputId": "c4a0e3a1-f4a1-4dcf-b8e6-b6be21ab6799"
      },
      "execution_count": null,
      "outputs": [
        {
          "output_type": "execute_result",
          "data": {
            "text/plain": [
              "[1, 2, 4, 5, 6, 7, 3]"
            ]
          },
          "metadata": {},
          "execution_count": 56
        }
      ]
    },
    {
      "cell_type": "markdown",
      "source": [
        "**Vertical order traversal of binary tree**"
      ],
      "metadata": {
        "id": "DwBI04q93fRA"
      }
    },
    {
      "cell_type": "code",
      "source": [
        "def verticalorder(root):\n",
        "  queue = [(root,0)]\n",
        "  verticalPath = {}\n",
        "  while queue:\n",
        "    currentNode, VerticalPosition =queue[0]\n",
        "    queue.pop(0)\n",
        "    if VerticalPosition in verticalPath:\n",
        "      verticalPath[VerticalPosition].append(currentNode.data)\n",
        "    else:\n",
        "      verticalPath[VerticalPosition]= [currentNode.data]\n",
        "    #If left child exist then take it\n",
        "    if currentNode.left:\n",
        "      queue.append((currentNode.left,VerticalPosition-1))\n",
        "    #if right node exist\n",
        "    if currentNode.right:\n",
        "      queue.append((currentNode.right,VerticalPosition+1))\n",
        "    \n",
        "  for key in sorted(verticalPath.keys()):\n",
        "    print(verticalPath[key])\n",
        "          "
      ],
      "metadata": {
        "id": "8AryBGmv3Yjh"
      },
      "execution_count": null,
      "outputs": []
    },
    {
      "cell_type": "code",
      "source": [
        "verticalorder(root)"
      ],
      "metadata": {
        "colab": {
          "base_uri": "https://localhost:8080/"
        },
        "id": "zCgTNtBICOIk",
        "outputId": "d9c59a0f-d60b-45c5-b99c-185f87d6709e"
      },
      "execution_count": null,
      "outputs": [
        {
          "output_type": "stream",
          "name": "stdout",
          "text": [
            "[4]\n",
            "[2]\n",
            "[1, 5, 6]\n",
            "[3]\n",
            "[7]\n"
          ]
        }
      ]
    },
    {
      "cell_type": "markdown",
      "source": [
        "**Top view of binary tree**"
      ],
      "metadata": {
        "id": "wKAvNpnmEwc-"
      }
    },
    {
      "cell_type": "code",
      "source": [
        "def Topview(root):\n",
        "  verticalpath={}\n",
        "  queue=[(root,0)]\n",
        "  while queue:\n",
        "    currentNode, verticalorder = queue[0]\n",
        "    queue.pop(0)\n",
        "    if verticalorder not in verticalpath:\n",
        "      verticalpath[verticalorder] = [currentNode.data]\n",
        "    if currentNode.left:\n",
        "      queue.append((currentNode.left,verticalorder-1))\n",
        "    if currentNode.right:\n",
        "      queue.append((currentNode.right,verticalorder+1))\n",
        "  for key in sorted(verticalpath.keys()):\n",
        "    print(verticalpath[key])"
      ],
      "metadata": {
        "id": "9wVwfEjgCUN8"
      },
      "execution_count": null,
      "outputs": []
    },
    {
      "cell_type": "code",
      "source": [
        "Topview(root)"
      ],
      "metadata": {
        "colab": {
          "base_uri": "https://localhost:8080/"
        },
        "id": "v7pSKqr8LmhU",
        "outputId": "d5ec452e-52c2-4f9d-ba02-ed52f6f609e5"
      },
      "execution_count": null,
      "outputs": [
        {
          "output_type": "stream",
          "name": "stdout",
          "text": [
            "[4]\n",
            "[2]\n",
            "[1]\n",
            "[3]\n",
            "[7]\n"
          ]
        }
      ]
    },
    {
      "cell_type": "markdown",
      "source": [
        "**Bottom view of binary tree**"
      ],
      "metadata": {
        "id": "JAXSOJzZOkak"
      }
    },
    {
      "cell_type": "code",
      "source": [
        "def Bottomview(root):\n",
        "  verticalpath={}\n",
        "  queue = [(root,0)]\n",
        "  while queue:\n",
        "    currentNode,verticalorder=queue[0]\n",
        "    queue.pop(0)\n",
        "    verticalpath[verticalorder]=[currentNode.data]\n",
        "    if currentNode.left:\n",
        "      queue.append((currentNode.left,verticalorder-1))\n",
        "    if currentNode.right:\n",
        "      queue.append((currentNode.right, verticalorder+1))\n",
        "  for key in sorted(verticalpath.keys()):\n",
        "    print(verticalpath[key])\n"
      ],
      "metadata": {
        "id": "5E9jh_UtLq0s"
      },
      "execution_count": null,
      "outputs": []
    },
    {
      "cell_type": "code",
      "source": [
        "Bottomview(root)"
      ],
      "metadata": {
        "colab": {
          "base_uri": "https://localhost:8080/"
        },
        "id": "aLOGAvneQ49_",
        "outputId": "34981fdc-bf50-42eb-f8a8-104d8a629fde"
      },
      "execution_count": null,
      "outputs": [
        {
          "output_type": "stream",
          "name": "stdout",
          "text": [
            "[4]\n",
            "[2]\n",
            "[6]\n",
            "[3]\n",
            "[7]\n"
          ]
        }
      ]
    },
    {
      "cell_type": "markdown",
      "source": [
        "**Right and Left view of binary tree**"
      ],
      "metadata": {
        "id": "229ic54mRIcc"
      }
    },
    {
      "cell_type": "code",
      "source": [
        "def rightview(root):\n",
        "  queue=[root]\n",
        "  ans=[]\n",
        "  while queue:\n",
        "    n = len(queue)\n",
        "    verticalorder=[]\n",
        "    for i in range(n):\n",
        "      currentNode=queue[0]\n",
        "      queue.pop(0)\n",
        "      if currentNode.left:\n",
        "        queue.append(currentNode.left)\n",
        "      if currentNode.right:\n",
        "        queue.append(currentNode.right)\n",
        "      verticalorder.append(currentNode.data)\n",
        "    ans.append(verticalorder)\n",
        "  for i in range(len(ans)):\n",
        "    print([ans[i][0]])"
      ],
      "metadata": {
        "id": "lppIYLLWQ6w0"
      },
      "execution_count": null,
      "outputs": []
    },
    {
      "cell_type": "code",
      "source": [
        "rightview(root)"
      ],
      "metadata": {
        "colab": {
          "base_uri": "https://localhost:8080/"
        },
        "id": "16q0cyUQTuLb",
        "outputId": "f95f086f-e6a9-4efe-8a6b-fb8a6947baf5"
      },
      "execution_count": null,
      "outputs": [
        {
          "output_type": "stream",
          "name": "stdout",
          "text": [
            "[1]\n",
            "[2]\n",
            "[4]\n"
          ]
        }
      ]
    },
    {
      "cell_type": "code",
      "source": [
        "def leftview(root):\n",
        "  queue=[root]\n",
        "  ans=[]\n",
        "  while queue:\n",
        "    n=len(queue)\n",
        "    verticalorder=[]\n",
        "    for i in range(n):\n",
        "      currentNode=queue[0]\n",
        "      queue.pop(0)\n",
        "      if currentNode.left:\n",
        "        queue.append(currentNode.left)\n",
        "      if currentNode.right:\n",
        "        queue.append(currentNode.right)\n",
        "      verticalorder.append(currentNode.data)\n",
        "    ans.append(verticalorder)\n",
        "  for i in range(len(ans)):\n",
        "    print([ans[i][-1]])"
      ],
      "metadata": {
        "id": "BuMjqdlbTyai"
      },
      "execution_count": null,
      "outputs": []
    },
    {
      "cell_type": "code",
      "source": [
        "leftview(root)"
      ],
      "metadata": {
        "colab": {
          "base_uri": "https://localhost:8080/"
        },
        "id": "0HH0Gk1cVhty",
        "outputId": "f510fccd-6c9e-406e-a2f3-87b561c09274"
      },
      "execution_count": null,
      "outputs": [
        {
          "output_type": "stream",
          "name": "stdout",
          "text": [
            "[1]\n",
            "[3]\n",
            "[7]\n"
          ]
        }
      ]
    },
    {
      "cell_type": "markdown",
      "source": [
        "**Check for symmetrical binary trees**"
      ],
      "metadata": {
        "id": "MdQA7iF-Vnlm"
      }
    },
    {
      "cell_type": "markdown",
      "source": [
        "left part of the tree is mirror of right part of the tree"
      ],
      "metadata": {
        "id": "IqOF9Y30brlH"
      }
    },
    {
      "cell_type": "code",
      "source": [
        "def is_symmetric_tree(root):\n",
        "  temp1, temp2 = [],[]\n",
        "  left_tree=preorder_left(root.left,temp1)\n",
        "  right_tree = preorder_right(root.right, temp2)\n",
        "  return left_tree == right_tree\n",
        "\n",
        "def preorder_left(root, temp):\n",
        "  if root is None:\n",
        "    return None\n",
        "  temp.append(root.data)\n",
        "  preorder(root.left,temp)\n",
        "  preorder(root.right,temp)\n",
        "  return temp\n",
        "\n",
        "def preorder_right(root, temp):\n",
        "  if root is None:\n",
        "    return None\n",
        "  temp.append(root.data)\n",
        "  preorder(root.right,temp)\n",
        "  preorder(root.left,temp)\n",
        "  return temp"
      ],
      "metadata": {
        "id": "9pVCSlqSVi7d"
      },
      "execution_count": null,
      "outputs": []
    },
    {
      "cell_type": "code",
      "source": [
        "is_symmetric_tree(root)"
      ],
      "metadata": {
        "colab": {
          "base_uri": "https://localhost:8080/"
        },
        "id": "Ehr6SVE4dxjN",
        "outputId": "a766cbe2-b3d6-4f27-89ad-a1930a31d490"
      },
      "execution_count": null,
      "outputs": [
        {
          "output_type": "execute_result",
          "data": {
            "text/plain": [
              "False"
            ]
          },
          "metadata": {},
          "execution_count": 69
        }
      ]
    },
    {
      "cell_type": "code",
      "source": [
        "s_root = TreeNode(1)\n",
        "s_root.left = TreeNode(2)\n",
        "s_root.right = TreeNode(2)\n",
        "s_root.left.left = TreeNode(8)\n",
        "s_root.left.right = TreeNode(9)\n",
        "s_root.right.left = TreeNode(9)\n",
        "s_root.right.right = TreeNode(8)"
      ],
      "metadata": {
        "id": "7MJBWFxWbjfE"
      },
      "execution_count": null,
      "outputs": []
    },
    {
      "cell_type": "code",
      "source": [
        "is_symmetric_tree(s_root)"
      ],
      "metadata": {
        "colab": {
          "base_uri": "https://localhost:8080/"
        },
        "id": "qp51yoFybklA",
        "outputId": "2b6eb088-5f5c-451f-8d9e-43cba89ff048"
      },
      "execution_count": null,
      "outputs": [
        {
          "output_type": "execute_result",
          "data": {
            "text/plain": [
              "True"
            ]
          },
          "metadata": {},
          "execution_count": 70
        }
      ]
    },
    {
      "cell_type": "markdown",
      "source": [
        "**Print root to node path in binary tree**"
      ],
      "metadata": {
        "id": "FrdhreDuh2NI"
      }
    },
    {
      "cell_type": "code",
      "source": [
        "def roottoleaf(root):\n",
        "  queue = []\n",
        "  queue.append((root,\"\"))\n",
        "  while queue:\n",
        "    curr,path=queue.pop()\n",
        "    path+=(\"->\" if path else '\\n')+str(curr.data)\n",
        "    if curr.left is None and curr.right is None:\n",
        "      print(path, end=\" \")\n",
        "    if curr.right:\n",
        "      queue.append((curr.right,path))\n",
        "    if curr.left:\n",
        "      queue.append((curr.left,path))"
      ],
      "metadata": {
        "id": "OAWeu0WwWmP3"
      },
      "execution_count": null,
      "outputs": []
    },
    {
      "cell_type": "code",
      "source": [
        "roottoleaf(root)"
      ],
      "metadata": {
        "colab": {
          "base_uri": "https://localhost:8080/"
        },
        "id": "9VXA4eMobidM",
        "outputId": "922f67a9-826d-49e8-81a5-ae31aec04bda"
      },
      "execution_count": null,
      "outputs": [
        {
          "output_type": "stream",
          "name": "stdout",
          "text": [
            "\n",
            "1->2->4 \n",
            "1->2->5 \n",
            "1->3->6 \n",
            "1->3->7 "
          ]
        }
      ]
    },
    {
      "cell_type": "code",
      "source": [
        "def path(root,k):\n",
        "  path=[]\n",
        "  getpath(root,path,k)\n",
        "  return path\n",
        "\n",
        "def getpath(root,path,k):\n",
        "  if root is None: return False\n",
        "  path.append(root.data)\n",
        "  if root.data == k:return True\n",
        "  if getpath(root.left,path,k) or getpath(root.right,path,k) is True: return True\n",
        "  path.pop()\n",
        "  return False"
      ],
      "metadata": {
        "id": "CWAJTQgPyn9N"
      },
      "execution_count": null,
      "outputs": []
    },
    {
      "cell_type": "code",
      "source": [
        "path(root,4)"
      ],
      "metadata": {
        "colab": {
          "base_uri": "https://localhost:8080/"
        },
        "id": "qP13jmbRyrQj",
        "outputId": "705e2ed3-e283-4c05-feca-2fbe4b25f732"
      },
      "execution_count": null,
      "outputs": [
        {
          "output_type": "execute_result",
          "data": {
            "text/plain": [
              "[1, 2, 4]"
            ]
          },
          "metadata": {},
          "execution_count": 52
        }
      ]
    },
    {
      "cell_type": "markdown",
      "source": [
        "**LCA in binary tree**"
      ],
      "metadata": {
        "id": "Xlm3jHEXghSW"
      }
    },
    {
      "cell_type": "code",
      "source": [
        "def lca(root,node1,node2):\n",
        "  path_1 = path(root,node1)\n",
        "  path_2 = path(root,node2)\n",
        "  ans = list(set(path_1).intersection(set(path_2)))\n",
        "  return ans[-1]"
      ],
      "metadata": {
        "id": "9vFgsmZUbp2C"
      },
      "execution_count": null,
      "outputs": []
    },
    {
      "cell_type": "code",
      "source": [
        "lca(root,4,5)"
      ],
      "metadata": {
        "colab": {
          "base_uri": "https://localhost:8080/"
        },
        "id": "y2vhY8aDxhUZ",
        "outputId": "3c17ec9c-6cac-4061-db25-1b9721bc05fa"
      },
      "execution_count": null,
      "outputs": [
        {
          "output_type": "execute_result",
          "data": {
            "text/plain": [
              "2"
            ]
          },
          "metadata": {},
          "execution_count": 43
        }
      ]
    },
    {
      "cell_type": "markdown",
      "source": [
        "**Maximum width of binary tree**"
      ],
      "metadata": {
        "id": "zkaeNCdvow_Z"
      }
    },
    {
      "cell_type": "code",
      "source": [
        "def maxwidth(root):\n",
        "  queue=[root]\n",
        "  max_width=1\n",
        "  while queue:\n",
        "    start,end=False, False\n",
        "    n = len(queue)\n",
        "    pos = 1\n",
        "    for _ in range(n):\n",
        "      curr=queue.pop(0)\n",
        "      if curr is not None:\n",
        "        if not start:\n",
        "          start = pos\n",
        "        else:\n",
        "          end = pos\n",
        "        queue.append(curr.left)\n",
        "        queue.append(curr.right)\n",
        "      else:\n",
        "        queue.append(None)\n",
        "        queue.append(None)\n",
        "      pos+=1\n",
        "    if start is False and end is False:\n",
        "      break\n",
        "    if start and end:\n",
        "      max_width = max(max_width,(end - start)+1)\n",
        "  return max_width"
      ],
      "metadata": {
        "id": "6tFXgYSEz-mS"
      },
      "execution_count": null,
      "outputs": []
    },
    {
      "cell_type": "code",
      "source": [
        "maxwidth(root)"
      ],
      "metadata": {
        "colab": {
          "base_uri": "https://localhost:8080/"
        },
        "id": "AJkH-Dmk0I7f",
        "outputId": "29c289f5-09f0-445a-d6d7-20f0a6871956"
      },
      "execution_count": null,
      "outputs": [
        {
          "output_type": "execute_result",
          "data": {
            "text/plain": [
              "4"
            ]
          },
          "metadata": {},
          "execution_count": 100
        }
      ]
    },
    {
      "cell_type": "markdown",
      "source": [
        "**Children sum property in Linear time**"
      ],
      "metadata": {
        "id": "t072zfKSiP8-"
      }
    },
    {
      "cell_type": "markdown",
      "source": [
        "Every node in the binary tree, the sum of its children node is equal to the parent node data"
      ],
      "metadata": {
        "id": "YiozOgLiipFM"
      }
    },
    {
      "cell_type": "code",
      "source": [
        "def childsumproperty(root):\n",
        "  if root is None:\n",
        "    return\n",
        "  childsum = 0\n",
        "  if root.left:\n",
        "    childsum+=root.left.data\n",
        "  if root.right:\n",
        "    childsum+=root.right.data\n",
        "  if childsum < root.data:\n",
        "    if root.left: root.left.data = root.data\n",
        "    elif root.right: root.right.data = root.data\n",
        "  else: #childsum >= root.data\n",
        "    root.data = childsum\n",
        "  childsumproperty(root.left)\n",
        "  childsumproperty(root.right)\n",
        "  newRootData = 0\n",
        "  if root.left: newRootData+=root.left.data\n",
        "  if root.right: newRootData+=root.right.data\n",
        "  ##VVIMP\n",
        "  if root.left or root.right:\n",
        "    root.data = newRootData"
      ],
      "metadata": {
        "id": "bia7_Tmx0JVK"
      },
      "execution_count": null,
      "outputs": []
    },
    {
      "cell_type": "code",
      "source": [
        "childsumproperty(root)"
      ],
      "metadata": {
        "id": "Ourpw_q1rLA3"
      },
      "execution_count": null,
      "outputs": []
    },
    {
      "cell_type": "code",
      "source": [
        "levelorder(root)"
      ],
      "metadata": {
        "colab": {
          "base_uri": "https://localhost:8080/"
        },
        "id": "xfn-GBSqrcP2",
        "outputId": "fbb79b38-e773-4d5f-e285-f590a8f6ec08"
      },
      "execution_count": null,
      "outputs": [
        {
          "output_type": "execute_result",
          "data": {
            "text/plain": [
              "[[22], [9, 13], [4, 5, 6, 7]]"
            ]
          },
          "metadata": {},
          "execution_count": 9
        }
      ]
    },
    {
      "cell_type": "markdown",
      "source": [
        "**Print all the nodes at a distance of k**"
      ],
      "metadata": {
        "id": "bXpT7S5wswcp"
      }
    },
    {
      "cell_type": "code",
      "source": [
        "def node2target(root,target,k):\n",
        "  parent={}\n",
        "  initialize(root,parent)\n",
        "  distance = 1\n",
        "  queue=[target]\n",
        "  visited = set()\n",
        "  visited.add(target)\n",
        "  while queue:\n",
        "    curr=queue.pop(0) \n",
        "    if curr.left and curr.left not in visited:\n",
        "      visited.add(curr.left)\n",
        "      queue.append(curr.left)\n",
        "    if curr.right and curr.right not in visited:\n",
        "      visited.add(curr.right)\n",
        "      queue.append(curr.right)\n",
        "    if curr in parent and curr not in visited:\n",
        "      visited.add(parent[curr])\n",
        "      queue.append(parent[curr])\n",
        "    distance+=1\n",
        "    if distance > k:\n",
        "      break\n",
        "  ans=[]\n",
        "  for i in queue:\n",
        "    ans.append(i.data)\n",
        "  return ans\n",
        "\n",
        "def initialize(root,parent):\n",
        "  queue = [root]\n",
        "  while queue:\n",
        "    curr = queue.pop(0)\n",
        "    if curr is None:\n",
        "      return \n",
        "    if curr.left:\n",
        "      parent[curr.left] = curr\n",
        "      queue.append(curr.left)\n",
        "    if curr.right:\n",
        "      parent[curr.right] = curr\n",
        "      queue.append(curr.right)\n",
        "  "
      ],
      "metadata": {
        "id": "8wZd72zK1fgx"
      },
      "execution_count": null,
      "outputs": []
    },
    {
      "cell_type": "code",
      "source": [
        "node2target(root,root.left,2)"
      ],
      "metadata": {
        "colab": {
          "base_uri": "https://localhost:8080/"
        },
        "id": "ZI4NM6aSA90k",
        "outputId": "61db19bc-b2c4-46b8-bc73-ba92ad053e85"
      },
      "execution_count": null,
      "outputs": [
        {
          "output_type": "execute_result",
          "data": {
            "text/plain": [
              "[5]"
            ]
          },
          "metadata": {},
          "execution_count": 45
        }
      ]
    },
    {
      "cell_type": "markdown",
      "source": [
        "**Minimum time taken to burn the binary tree from a node**"
      ],
      "metadata": {
        "id": "Jw7p9t1BED9N"
      }
    },
    {
      "cell_type": "code",
      "source": [
        "def minimumTimetoBurn(root,target):\n",
        "  parent = {}\n",
        "  queue=[root]\n",
        "  Parent(root,parent)\n",
        "  visited = set()\n",
        "  visited.add(root)\n",
        "  time=0\n",
        "  while queue:\n",
        "    n = len(queue)\n",
        "    for _ in range(n):\n",
        "      curr = queue.pop(0)\n",
        "      if curr is None:\n",
        "        return\n",
        "      if curr.left and curr.left not in visited:\n",
        "        visited.add(curr.left)\n",
        "        queue.append(curr.left)\n",
        "      if curr.right and curr.right not in visited:\n",
        "        visited.add(curr.right)\n",
        "        queue.append(curr.right)\n",
        "      if curr in parent and parent[curr] not in visited:\n",
        "        visited.add(parent[curr])\n",
        "        queue.append(parent[curr])\n",
        "    time+=1  \n",
        "  return time\n",
        "\n",
        "def Parent(root,parent):\n",
        "  queue = [root]\n",
        "  while queue:\n",
        "    curr = queue.pop(0)\n",
        "    if curr is None:\n",
        "      return\n",
        "    if curr.left:\n",
        "      parent[curr.left]=curr\n",
        "      queue.append(curr.left)\n",
        "    if curr.right:\n",
        "      parent[curr.right]=curr\n",
        "      queue.append(curr.right)"
      ],
      "metadata": {
        "id": "fh71RWbbBIyp"
      },
      "execution_count": null,
      "outputs": []
    },
    {
      "cell_type": "code",
      "source": [
        "minimumTimetoBurn(root,root.left)"
      ],
      "metadata": {
        "colab": {
          "base_uri": "https://localhost:8080/"
        },
        "id": "IgUZyhPxI_48",
        "outputId": "c6eb4c8e-af38-470b-d2b0-428c6f07c777"
      },
      "execution_count": null,
      "outputs": [
        {
          "output_type": "execute_result",
          "data": {
            "text/plain": [
              "3"
            ]
          },
          "metadata": {},
          "execution_count": 7
        }
      ]
    },
    {
      "cell_type": "markdown",
      "source": [
        "**Count total nodes in a complete binary tree**"
      ],
      "metadata": {
        "id": "10w8lmPfP1tn"
      }
    },
    {
      "cell_type": "code",
      "source": [
        "def totalnode(root):\n",
        "  ans = countnode(root)\n",
        "  return ans\n",
        "\n",
        "def countnode(root):\n",
        "  left_height = node_left(root)\n",
        "  right_height = node_right(root)\n",
        "  return (2**left_height-1)+(2**right_height-1)+1\n",
        "\n",
        "def node_left(root):\n",
        "  left_height=0\n",
        "  while True:\n",
        "    if root.left is None:\n",
        "      break\n",
        "    if root.left:\n",
        "      left_height+=1\n",
        "      root = root.left\n",
        "\n",
        "  return left_height\n",
        "  \n",
        "  \n",
        "def node_right(root):\n",
        "  right_height=0\n",
        "  while True:\n",
        "    if root.right is None:\n",
        "      break\n",
        "    if root.right:\n",
        "      right_height+=1\n",
        "      root=root.right\n",
        "    \n",
        "  return right_height\n"
      ],
      "metadata": {
        "id": "wsq8uj_1JEVy"
      },
      "execution_count": null,
      "outputs": []
    },
    {
      "cell_type": "code",
      "source": [
        "Root = TreeNode(1)\n",
        "Root.left = TreeNode(2)\n",
        "Root.right = TreeNode(3)\n",
        "Root.left.left = TreeNode(4)\n",
        "Root.left.right = TreeNode(5)\n",
        "Root.right.right = TreeNode(11)\n",
        "Root.right.left = TreeNode(10)\n",
        "Root.left.left.left = TreeNode(6)\n",
        "Root.left.left.right = TreeNode(7)"
      ],
      "metadata": {
        "id": "AapoQ08EcTOz"
      },
      "execution_count": null,
      "outputs": []
    },
    {
      "cell_type": "code",
      "source": [
        "totalnode(Root)"
      ],
      "metadata": {
        "colab": {
          "base_uri": "https://localhost:8080/"
        },
        "id": "1V7ATd3MX2MV",
        "outputId": "a474359d-4683-4249-a4bd-7dacea2d42b2"
      },
      "execution_count": null,
      "outputs": [
        {
          "output_type": "execute_result",
          "data": {
            "text/plain": [
              "11"
            ]
          },
          "metadata": {},
          "execution_count": 25
        }
      ]
    },
    {
      "cell_type": "code",
      "source": [
        "totalnode(root)"
      ],
      "metadata": {
        "colab": {
          "base_uri": "https://localhost:8080/"
        },
        "id": "IhFpygThdBBp",
        "outputId": "b915de9e-3345-4d8c-eed4-763a2dc2211c"
      },
      "execution_count": null,
      "outputs": [
        {
          "output_type": "execute_result",
          "data": {
            "text/plain": [
              "7"
            ]
          },
          "metadata": {},
          "execution_count": 26
        }
      ]
    },
    {
      "cell_type": "markdown",
      "source": [
        "**Construct a binary tree from preorder and inorder traversals**"
      ],
      "metadata": {
        "id": "h-HMgkIigCxu"
      }
    },
    {
      "cell_type": "code",
      "source": [
        "def constructtree(inorder, preorder):\n",
        "  inorderMap = {}\n",
        "  for i in range(len(inorder)):\n",
        "    inorderMap[inorder[i]] = i #created inorder map\n",
        "  newRoot = solve(preorder, inorder, inorderMap, 0, len(preorder)-1, 0, len(inorder)-1)\n",
        "  return newRoot\n",
        "\n",
        "def solve(preorder, inorder, inorderMap, prestart, preend, instart, inend):\n",
        "  #base case\n",
        "  if prestart > preend or instart > inend:\n",
        "    return None\n",
        "  root = TreeNode(preorder[prestart])\n",
        "  rootInorderIdx = inorder[root.data]\n",
        "  nums_left = rootInorderIdx - instart\n",
        "  root.left = solve(preorder, inorder, inorderMap, prestart+1, prestart + nums_left,instart, rootInorderIdx - 1)\n",
        "  root.right = solve(preorder, inorder, inorderMap, prestart, prestart+nums_left+1,preend ,rootInorderIdx+1, inend)\n",
        "\n",
        "  return root"
      ],
      "metadata": {
        "id": "RpRP3VLVX4TR"
      },
      "execution_count": 5,
      "outputs": []
    },
    {
      "cell_type": "markdown",
      "source": [
        "**Construct a binary tree from postorder and inorder traversals**"
      ],
      "metadata": {
        "id": "5oVtlG6jnYQa"
      }
    },
    {
      "cell_type": "code",
      "source": [
        "def constructtree(inorder, postorder):\n",
        "  inorderMap = {}\n",
        "  for i in range(len(inorder)):\n",
        "    inorderMap[inorder[i]] = i #created inorder map\n",
        "  newRoot = solve(postorder, inorder, inorderMap, 0, len(postorder)-1, 0, len(inorder)-1)\n",
        "  return newRoot\n",
        "\n",
        "def solve(postorder, inorder, inorderMap, poststart, postend, instart, inend):\n",
        "  #base case\n",
        "  if poststart > postend or instart > inend:\n",
        "    return None\n",
        "  root = TreeNode(postorder[postend])\n",
        "  rootInorderIdx = inorder[root.data]\n",
        "  nums_left = rootInorderIdx - instart\n",
        "  root.left = solve(postorder, inorder, inorderMap, poststart, poststart+nums_left-1, instart, rootInorderIdx-1)\n",
        "  root.right = solve(postorder, inorder, inorderMap,poststart+nums_left,postend,rootInorderIdx+1,inend)\n",
        "\n",
        "  return root"
      ],
      "metadata": {
        "id": "dxvVU1D4iiMt"
      },
      "execution_count": 10,
      "outputs": []
    }
  ]
}