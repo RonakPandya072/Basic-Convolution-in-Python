{
  "nbformat": 4,
  "nbformat_minor": 0,
  "metadata": {
    "colab": {
      "name": "tree.ipynb",
      "provenance": [],
      "collapsed_sections": [],
      "authorship_tag": "ABX9TyMTBqBVhr897IU/weWrJeND",
      "include_colab_link": true
    },
    "kernelspec": {
      "name": "python3",
      "display_name": "Python 3"
    },
    "language_info": {
      "name": "python"
    }
  },
  "cells": [
    {
      "cell_type": "markdown",
      "metadata": {
        "id": "view-in-github",
        "colab_type": "text"
      },
      "source": [
        "<a href=\"https://colab.research.google.com/github/RonakPandya072/Basic-Convolution-in-Python/blob/main/Binary%20Tree/tree.ipynb\" target=\"_parent\"><img src=\"https://colab.research.google.com/assets/colab-badge.svg\" alt=\"Open In Colab\"/></a>"
      ]
    },
    {
      "cell_type": "code",
      "execution_count": 1,
      "metadata": {
        "id": "5p7vHsMeCJRa"
      },
      "outputs": [],
      "source": [
        "class TreeNode:\n",
        "  def __init__(self,data):\n",
        "    self.data = data\n",
        "    self.left = None\n",
        "    self.right = None"
      ]
    },
    {
      "cell_type": "code",
      "source": [
        "root = TreeNode(1)\n",
        "root.left = TreeNode(2)\n",
        "root.right = TreeNode(3)\n",
        "root.left.left = TreeNode(4)\n",
        "root.left.right = TreeNode(5)\n",
        "root.right.left = TreeNode(6)\n",
        "root.right.right = TreeNode(7)"
      ],
      "metadata": {
        "id": "QOjqxevgDU70"
      },
      "execution_count": 2,
      "outputs": []
    },
    {
      "cell_type": "code",
      "source": [
        "def binaryTree():\n",
        "  root = TreeNode(1)\n",
        "  root.left = TreeNode(2)\n",
        "  root.right = TreeNode(3)\n",
        "  root.left.left = TreeNode(4)\n",
        "  root.left.right = TreeNode(5)\n",
        "  root.right.left = TreeNode(6)\n",
        "  root.right.right = TreeNode(7)\n",
        "  return root"
      ],
      "metadata": {
        "id": "YCUavvrDKY46"
      },
      "execution_count": 3,
      "outputs": []
    },
    {
      "cell_type": "code",
      "source": [
        "root = binaryTree()"
      ],
      "metadata": {
        "id": "R8bX65pFKj62"
      },
      "execution_count": 5,
      "outputs": []
    },
    {
      "cell_type": "markdown",
      "source": [
        "**Preorder, inorder, postorder traversal**"
      ],
      "metadata": {
        "id": "_Ibg0473IJqB"
      }
    },
    {
      "cell_type": "code",
      "source": [
        "def preorder(root):\n",
        "  if root is None:\n",
        "    return\n",
        "  print(root.data)\n",
        "  preorder(root.left)\n",
        "  preorder(root.right)"
      ],
      "metadata": {
        "id": "P4rsmUHoIEw1"
      },
      "execution_count": null,
      "outputs": []
    },
    {
      "cell_type": "code",
      "source": [
        "def preorder_iterative(root):\n",
        "  #using stack data structure\n",
        "  stack = [root]\n",
        "  preorder=[]\n",
        "  while stack:\n",
        "    curr_node = stack[-1]\n",
        "    preorder.append(curr_node.data)\n",
        "    stack.pop()\n",
        "    if curr_node.right:\n",
        "      stack.append(curr_node.right)\n",
        "    if curr_node.left:\n",
        "      stack.append(curr_node.left)\n",
        "  return preorder"
      ],
      "metadata": {
        "id": "aGK52jvQ4kTM"
      },
      "execution_count": null,
      "outputs": []
    },
    {
      "cell_type": "code",
      "source": [
        "preorder_iterative(root)"
      ],
      "metadata": {
        "colab": {
          "base_uri": "https://localhost:8080/"
        },
        "id": "nIhfzwD0EjuZ",
        "outputId": "63c620d1-06d1-4c8e-f19e-6652b9df02eb"
      },
      "execution_count": null,
      "outputs": [
        {
          "output_type": "execute_result",
          "data": {
            "text/plain": [
              "[1, 2, 4, 5, 3, 6, 7]"
            ]
          },
          "metadata": {},
          "execution_count": 35
        }
      ]
    },
    {
      "cell_type": "code",
      "source": [
        "preorder(root)"
      ],
      "metadata": {
        "colab": {
          "base_uri": "https://localhost:8080/"
        },
        "id": "86A2bBZdIitK",
        "outputId": "d83de4b3-d9c2-4bae-e3ff-145c6ae8d1ee"
      },
      "execution_count": null,
      "outputs": [
        {
          "output_type": "stream",
          "name": "stdout",
          "text": [
            "1\n",
            "2\n",
            "4\n",
            "5\n",
            "3\n",
            "6\n",
            "7\n"
          ]
        }
      ]
    },
    {
      "cell_type": "code",
      "source": [
        "def inorder(root):\n",
        "  if root is None:\n",
        "    return\n",
        "  inorder(root.left)\n",
        "  print(root.data)\n",
        "  inorder(root.right)"
      ],
      "metadata": {
        "id": "iyU3MwaKIlvG"
      },
      "execution_count": null,
      "outputs": []
    },
    {
      "cell_type": "code",
      "source": [
        "inorder(root)"
      ],
      "metadata": {
        "colab": {
          "base_uri": "https://localhost:8080/"
        },
        "id": "opVvGHy6Ksj7",
        "outputId": "3ad71460-d4d5-41ed-a21b-0e37ce49efaf"
      },
      "execution_count": null,
      "outputs": [
        {
          "output_type": "stream",
          "name": "stdout",
          "text": [
            "4\n",
            "2\n",
            "5\n",
            "1\n",
            "6\n",
            "3\n",
            "7\n"
          ]
        }
      ]
    },
    {
      "cell_type": "code",
      "source": [
        "def inorder_iterative(root):\n",
        "  stack = []\n",
        "  path = []\n",
        "  while True:\n",
        "    if root:\n",
        "      stack.append(root)\n",
        "      root = root.left\n",
        "    else:\n",
        "      if not stack:\n",
        "        break\n",
        "      root = stack[-1]\n",
        "      stack.pop()\n",
        "      path.append(root.data)\n",
        "      root = root.right\n",
        "  return path"
      ],
      "metadata": {
        "id": "ek0YZWCz6tTs"
      },
      "execution_count": null,
      "outputs": []
    },
    {
      "cell_type": "code",
      "source": [
        "inorder_iterative(root)"
      ],
      "metadata": {
        "colab": {
          "base_uri": "https://localhost:8080/"
        },
        "id": "0c6FsYtzBMXd",
        "outputId": "cadb3671-61e5-4bb2-f4e1-bd47bd981715"
      },
      "execution_count": null,
      "outputs": [
        {
          "output_type": "execute_result",
          "data": {
            "text/plain": [
              "[4, 2, 5, 1, 6, 3, 7]"
            ]
          },
          "metadata": {},
          "execution_count": 33
        }
      ]
    },
    {
      "cell_type": "code",
      "source": [
        "def postorder(root):\n",
        "  if root is None:\n",
        "    return \n",
        "  postorder(root.left)\n",
        "  postorder(root.right)\n",
        "  print(root.data)"
      ],
      "metadata": {
        "id": "HpTwtsvsKuI9"
      },
      "execution_count": null,
      "outputs": []
    },
    {
      "cell_type": "code",
      "source": [
        "def postorder_iterative(root):\n",
        "  stack=[root]\n",
        "  postorder=[]\n",
        "  while stack:\n",
        "    curr_node = stack[-1]\n",
        "    stack.pop()\n",
        "    postorder.append(curr_node.data)\n",
        "    if curr_node.left:\n",
        "      stack.append(curr_node.left)\n",
        "    if curr_node.right:\n",
        "      stack.append(curr_node.right)\n",
        "  return postorder[::-1]"
      ],
      "metadata": {
        "id": "fF0f33NgEvaf"
      },
      "execution_count": null,
      "outputs": []
    },
    {
      "cell_type": "code",
      "source": [
        "postorder_iterative(root)"
      ],
      "metadata": {
        "colab": {
          "base_uri": "https://localhost:8080/"
        },
        "id": "RnbIIYlOhCei",
        "outputId": "23157835-bf83-40c4-842f-60dc33c86b60"
      },
      "execution_count": null,
      "outputs": [
        {
          "output_type": "execute_result",
          "data": {
            "text/plain": [
              "[4, 5, 2, 6, 7, 3, 1]"
            ]
          },
          "metadata": {},
          "execution_count": 8
        }
      ]
    },
    {
      "cell_type": "code",
      "source": [
        "postorder(root)"
      ],
      "metadata": {
        "colab": {
          "base_uri": "https://localhost:8080/"
        },
        "id": "xgCVGpSGLX4_",
        "outputId": "be19f5e2-9962-494e-9487-63f282d74158"
      },
      "execution_count": null,
      "outputs": [
        {
          "output_type": "stream",
          "name": "stdout",
          "text": [
            "4\n",
            "5\n",
            "2\n",
            "6\n",
            "7\n",
            "3\n",
            "1\n"
          ]
        }
      ]
    },
    {
      "cell_type": "markdown",
      "source": [
        "**level order traversel**"
      ],
      "metadata": {
        "id": "2S4qT-vEL-b0"
      }
    },
    {
      "cell_type": "code",
      "source": [
        "def levelorder(root):\n",
        "  queue = [root]\n",
        "  ans = []\n",
        "  while queue:\n",
        "    n = len(queue)\n",
        "    level_order=[]\n",
        "    for i in range(n):\n",
        "      curr_node = queue[0]\n",
        "      queue.pop(0)\n",
        "      if curr_node.left:\n",
        "       queue.append(curr_node.left)\n",
        "      if curr_node.right:\n",
        "       queue.append(curr_node.right)\n",
        "      level_order.append(curr_node.data)\n",
        "    ans.append(level_order)\n",
        "  return ans "
      ],
      "metadata": {
        "id": "eVgDYVNcLZ3R"
      },
      "execution_count": null,
      "outputs": []
    },
    {
      "cell_type": "code",
      "source": [
        "levelorder=levelorder(root)"
      ],
      "metadata": {
        "id": "WaRU5AaSUcJD"
      },
      "execution_count": null,
      "outputs": []
    },
    {
      "cell_type": "code",
      "source": [
        "levelorder"
      ],
      "metadata": {
        "id": "ZHcfvEl6hn8j",
        "outputId": "78b77c74-192e-4e4d-8f2e-3cf3b69e86fa",
        "colab": {
          "base_uri": "https://localhost:8080/"
        }
      },
      "execution_count": null,
      "outputs": [
        {
          "output_type": "execute_result",
          "data": {
            "text/plain": [
              "[[1], [2, 3], [4, 5, 6, 7]]"
            ]
          },
          "metadata": {},
          "execution_count": 15
        }
      ]
    },
    {
      "cell_type": "markdown",
      "source": [
        "**depth of the tree**"
      ],
      "metadata": {
        "id": "lbkpR3IBPZag"
      }
    },
    {
      "cell_type": "code",
      "source": [
        "def tree_height(root):\n",
        "  if not root:\n",
        "    return 0\n",
        "  left = tree_height(root.left)\n",
        "  right = tree_height(root.right)\n",
        "  height = 1+max(left,right)\n",
        "\n",
        "  return height"
      ],
      "metadata": {
        "id": "v-ZevgJkU6qA"
      },
      "execution_count": null,
      "outputs": []
    },
    {
      "cell_type": "code",
      "source": [
        "tree_height(root)"
      ],
      "metadata": {
        "colab": {
          "base_uri": "https://localhost:8080/"
        },
        "id": "1DDaPgNDVnWr",
        "outputId": "4fca4343-5759-44a0-f293-77f8157a3116"
      },
      "execution_count": null,
      "outputs": [
        {
          "output_type": "execute_result",
          "data": {
            "text/plain": [
              "3"
            ]
          },
          "metadata": {},
          "execution_count": 6
        }
      ]
    },
    {
      "cell_type": "markdown",
      "source": [
        "**Check for balanced binary tree**"
      ],
      "metadata": {
        "id": "AlWhTD-xbX0Z"
      }
    },
    {
      "cell_type": "markdown",
      "source": [
        "Note: \n",
        "Full binary tree --> either 0 or 2 nodes at the leaf node\n",
        "\n",
        "complete tree --> Full + last layer left to right \n",
        "\n",
        "perfect tree --> All leaf node at same level\n",
        "\n",
        "balanced tree --> Max height = ln(N) where N is number of nodes OR in other words absolute difference of left subtree and right sub tree shound **not be >1**\n",
        "\n",
        "degenerated tree --> skewed tree"
      ],
      "metadata": {
        "id": "Cx5KUL3qbfEY"
      }
    },
    {
      "cell_type": "code",
      "source": [
        "def solve(root):\n",
        "  if not root:\n",
        "    return 0\n",
        "  left_tree = tree_height(root.left)\n",
        "  if left_tree == -1:\n",
        "    return -1\n",
        "  right_tree = tree_height(root.right)\n",
        "  if right_tree == -1:\n",
        "    return -1\n",
        "  if abs(left_tree - right_tree) > 1:\n",
        "    return -1\n",
        "\n",
        "def is_balanced(root):\n",
        "  result = solve(root)\n",
        "  if result == -1:\n",
        "    return False\n",
        "  \n",
        "  return True"
      ],
      "metadata": {
        "id": "50z0MDM5bRNX"
      },
      "execution_count": null,
      "outputs": []
    },
    {
      "cell_type": "code",
      "source": [
        "is_balanced(root)"
      ],
      "metadata": {
        "colab": {
          "base_uri": "https://localhost:8080/"
        },
        "id": "Gy3oeXYejUtr",
        "outputId": "d4ddd0af-2482-4748-ca2b-ceb65aebb9b9"
      },
      "execution_count": null,
      "outputs": [
        {
          "output_type": "execute_result",
          "data": {
            "text/plain": [
              "True"
            ]
          },
          "metadata": {},
          "execution_count": 14
        }
      ]
    },
    {
      "cell_type": "code",
      "source": [
        "Root = TreeNode(1)\n",
        "Root.left = TreeNode(2)\n",
        "Root.right = TreeNode(3)\n",
        "Root.left.left = TreeNode(4)\n",
        "Root.left.right = TreeNode(5)\n",
        "Root.left.left.left = TreeNode(6)\n",
        "Root.left.left.right = TreeNode(7)"
      ],
      "metadata": {
        "id": "5zA2QPhujW9A"
      },
      "execution_count": null,
      "outputs": []
    },
    {
      "cell_type": "code",
      "source": [
        "is_balanced(Root)"
      ],
      "metadata": {
        "id": "9JBbslQsjnkR",
        "outputId": "e91a564a-ec16-4ffd-a834-df09251bd2a0",
        "colab": {
          "base_uri": "https://localhost:8080/"
        }
      },
      "execution_count": null,
      "outputs": [
        {
          "output_type": "execute_result",
          "data": {
            "text/plain": [
              "False"
            ]
          },
          "metadata": {},
          "execution_count": 16
        }
      ]
    },
    {
      "cell_type": "markdown",
      "source": [
        "**Diameter of binary tree**"
      ],
      "metadata": {
        "id": "Cv6vH71Jb0UZ"
      }
    },
    {
      "cell_type": "code",
      "source": [
        "def height(root):\n",
        "  if not root:\n",
        "    return 0\n",
        "  \n",
        "  return 1+max(height(root.left), height(root.right))\n",
        "\n",
        "def Diameter(root):\n",
        "  if not root:\n",
        "    return 0\n",
        "  lheight = height(root.left)\n",
        "  rheight = height(root.right)\n",
        "\n",
        "  ldiameter = Diameter(root.left)\n",
        "  rdiameter = Diameter(root.right)\n",
        "\n",
        "  return max(1+lheight+rheight,max(ldiameter,rdiameter))"
      ],
      "metadata": {
        "id": "v3kQ-2engVZL"
      },
      "execution_count": null,
      "outputs": []
    },
    {
      "cell_type": "code",
      "source": [
        "Diameter(root)"
      ],
      "metadata": {
        "colab": {
          "base_uri": "https://localhost:8080/"
        },
        "id": "bYNqbMhxpf3I",
        "outputId": "aebd6a7a-c8ae-426b-c108-72016b4a6ce2"
      },
      "execution_count": null,
      "outputs": [
        {
          "output_type": "execute_result",
          "data": {
            "text/plain": [
              "5"
            ]
          },
          "metadata": {},
          "execution_count": 12
        }
      ]
    },
    {
      "cell_type": "markdown",
      "source": [
        "**Maximum path sum in binary tree**"
      ],
      "metadata": {
        "id": "6ZBHC-CAuf_B"
      }
    },
    {
      "cell_type": "code",
      "source": [
        "def max_sum(root):\n",
        "  maxsum = [0]\n",
        "  solve(root, maxsum)\n",
        "  \n",
        "  return maxsum\n",
        "\n",
        "def solve(root, maxsum):\n",
        "  if not root:\n",
        "    return 0\n",
        "\n",
        "  l_sum = solve(root.left, maxsum)\n",
        "  if l_sum < 0:\n",
        "    l_sum = 0\n",
        "  r_sum = solve(root.right, maxsum)\n",
        "  if r_sum < 0:\n",
        "    r_sum = 0\n",
        "  maxsum[0] = max(maxsum[0], root.data+l_sum+r_sum)\n",
        "  \n",
        "  return root.data + max(l_sum,r_sum)"
      ],
      "metadata": {
        "id": "rnR7JGtbpigG"
      },
      "execution_count": null,
      "outputs": []
    },
    {
      "cell_type": "code",
      "source": [
        "max_sum(root)"
      ],
      "metadata": {
        "colab": {
          "base_uri": "https://localhost:8080/"
        },
        "id": "Vt3p2Pt84zOr",
        "outputId": "ce338c2c-8525-4449-91cd-f68eaf15b30a"
      },
      "execution_count": null,
      "outputs": [
        {
          "output_type": "execute_result",
          "data": {
            "text/plain": [
              "[18]"
            ]
          },
          "metadata": {},
          "execution_count": 21
        }
      ]
    },
    {
      "cell_type": "markdown",
      "source": [
        "**Check if two trees are identical or not**"
      ],
      "metadata": {
        "id": "jkJPzQ57qSgl"
      }
    },
    {
      "cell_type": "code",
      "source": [
        "def identical_tree(root1,root2):\n",
        "  path1, path2 = [],[]\n",
        "  result1 = pre_order(root1,path1)\n",
        "  result2 = pre_order(root2,path2)\n",
        "  for v1, v2 in zip(result1,result2):\n",
        "    if v1!=v2:\n",
        "      return False\n",
        "    return True\n",
        "\n",
        "def pre_order(root,path):\n",
        "  if not root:\n",
        "    return \n",
        "  path.append(root.data)\n",
        "  pre_order(root.left)\n",
        "  pre_order(root.right)\n",
        "  "
      ],
      "metadata": {
        "id": "7Y4ygxgc40y7"
      },
      "execution_count": null,
      "outputs": []
    },
    {
      "cell_type": "code",
      "source": [
        "identical_tree(root,Root)"
      ],
      "metadata": {
        "colab": {
          "base_uri": "https://localhost:8080/"
        },
        "id": "R4XK6GvsvDgW",
        "outputId": "83f13e33-69b1-4b01-ecfb-137fa7ee99f8"
      },
      "execution_count": null,
      "outputs": [
        {
          "output_type": "execute_result",
          "data": {
            "text/plain": [
              "False"
            ]
          },
          "metadata": {},
          "execution_count": 9
        }
      ]
    },
    {
      "cell_type": "code",
      "source": [
        "def spiralOrder(root):\n",
        "  queue=[root]\n",
        "  ans=[]\n",
        "  while queue:\n",
        "    n = len(queue)\n",
        "    level_order=[]\n",
        "    for i in range(n):\n",
        "      curr_node = queue[0]\n",
        "      queue.pop(0)\n",
        "      if curr_node.left:\n",
        "        queue.append(curr_node.left)\n",
        "      if curr_node.right:\n",
        "        queue.append(curr_node.right)\n",
        "      level_order.append(curr_node.data)\n",
        "    ans.append(level_order)\n",
        "  for i in range(1,len(ans),2):\n",
        "    ans[i] = ans[i][::-1]\n",
        "  return ans"
      ],
      "metadata": {
        "id": "YRRNEljEvBGj"
      },
      "execution_count": null,
      "outputs": []
    },
    {
      "cell_type": "code",
      "source": [
        "spiralOrder(root)"
      ],
      "metadata": {
        "colab": {
          "base_uri": "https://localhost:8080/"
        },
        "id": "iflLJwj00Cu3",
        "outputId": "72b3f802-3823-46b8-9a80-5f3fd3e9e703"
      },
      "execution_count": null,
      "outputs": [
        {
          "output_type": "execute_result",
          "data": {
            "text/plain": [
              "[[1], [3, 2], [4, 5, 6, 7]]"
            ]
          },
          "metadata": {},
          "execution_count": 33
        }
      ]
    },
    {
      "cell_type": "markdown",
      "source": [
        "**Boundary traversal of binary tree**"
      ],
      "metadata": {
        "id": "OP_VGARR1uUf"
      }
    },
    {
      "cell_type": "code",
      "source": [
        "def boundaryTraversal(root):\n",
        "  path=[]\n",
        "  if root is None:\n",
        "    return path\n",
        "  if root:\n",
        "    path.append(root.data)\n",
        "  leftBoundary(root.left,path)\n",
        "  leafnodes(root,path)\n",
        "  rightBoundary(root.right,path)\n",
        "  return path\n",
        "\n",
        "def leftBoundary(root,path):\n",
        "  while root:\n",
        "    if root.left or root.right:\n",
        "      path.append(root.data)\n",
        "    if root.left:\n",
        "      root = root.left\n",
        "    else:\n",
        "      root = root.right    \n",
        "\n",
        "def leafnodes(root,path):\n",
        "  if root.left is None and root.right is None:\n",
        "    path.append(root.data)\n",
        "    return\n",
        "  if root.left:\n",
        "    leafnodes(root.left,path)\n",
        "  if root.right:\n",
        "    leafnodes(root.right,path)\n",
        "\n",
        "def rightBoundary(root,path):\n",
        "  temp=[]\n",
        "  while root:\n",
        "    if root.left or root.right:\n",
        "      temp.append(root.data)\n",
        "    if root.right:\n",
        "      root = root.right\n",
        "    else:\n",
        "      root = root.left\n",
        "  for i in range(len(temp)):\n",
        "    path.append(temp.pop())\n",
        "\n",
        "  "
      ],
      "metadata": {
        "id": "exibCZMo0E7n"
      },
      "execution_count": null,
      "outputs": []
    },
    {
      "cell_type": "code",
      "source": [
        "boundaryTraversal(root)"
      ],
      "metadata": {
        "colab": {
          "base_uri": "https://localhost:8080/"
        },
        "id": "b7Uk0O85_S07",
        "outputId": "c4a0e3a1-f4a1-4dcf-b8e6-b6be21ab6799"
      },
      "execution_count": null,
      "outputs": [
        {
          "output_type": "execute_result",
          "data": {
            "text/plain": [
              "[1, 2, 4, 5, 6, 7, 3]"
            ]
          },
          "metadata": {},
          "execution_count": 56
        }
      ]
    },
    {
      "cell_type": "markdown",
      "source": [
        "**Vertical order traversal of binary tree**"
      ],
      "metadata": {
        "id": "DwBI04q93fRA"
      }
    },
    {
      "cell_type": "code",
      "source": [
        "def verticalorder(root):\n",
        "  queue = [(root,0)]\n",
        "  verticalPath = {}\n",
        "  while queue:\n",
        "    currentNode, VerticalPosition =queue[0]\n",
        "    queue.pop(0)\n",
        "    if VerticalPosition in verticalPath:\n",
        "      verticalPath[VerticalPosition].append(currentNode.data)\n",
        "    else:\n",
        "      verticalPath[VerticalPosition]= [currentNode.data]\n",
        "    #If left child exist then take it\n",
        "    if currentNode.left:\n",
        "      queue.append((currentNode.left,VerticalPosition-1))\n",
        "    #if right node exist\n",
        "    if currentNode.right:\n",
        "      queue.append((currentNode.right,VerticalPosition+1))\n",
        "    \n",
        "  for key in sorted(verticalPath.keys()):\n",
        "    print(verticalPath[key])\n",
        "          "
      ],
      "metadata": {
        "id": "8AryBGmv3Yjh"
      },
      "execution_count": 14,
      "outputs": []
    },
    {
      "cell_type": "code",
      "source": [
        "verticalorder(root)"
      ],
      "metadata": {
        "colab": {
          "base_uri": "https://localhost:8080/"
        },
        "id": "zCgTNtBICOIk",
        "outputId": "d9c59a0f-d60b-45c5-b99c-185f87d6709e"
      },
      "execution_count": 15,
      "outputs": [
        {
          "output_type": "stream",
          "name": "stdout",
          "text": [
            "[4]\n",
            "[2]\n",
            "[1, 5, 6]\n",
            "[3]\n",
            "[7]\n"
          ]
        }
      ]
    },
    {
      "cell_type": "markdown",
      "source": [
        "**Top view of binary tree**"
      ],
      "metadata": {
        "id": "wKAvNpnmEwc-"
      }
    },
    {
      "cell_type": "code",
      "source": [
        "def Topview(root):\n",
        "  verticalpath={}\n",
        "  queue=[(root,0)]\n",
        "  while queue:\n",
        "    currentNode, verticalorder = queue[0]\n",
        "    queue.pop(0)\n",
        "    if verticalorder not in verticalpath:\n",
        "      verticalpath[verticalorder] = [currentNode.data]\n",
        "    if currentNode.left:\n",
        "      queue.append((currentNode.left,verticalorder-1))\n",
        "    if currentNode.right:\n",
        "      queue.append((currentNode.right,verticalorder+1))\n",
        "  for key in sorted(verticalpath.keys()):\n",
        "    print(verticalpath[key])"
      ],
      "metadata": {
        "id": "9wVwfEjgCUN8"
      },
      "execution_count": 20,
      "outputs": []
    },
    {
      "cell_type": "code",
      "source": [
        "Topview(root)"
      ],
      "metadata": {
        "colab": {
          "base_uri": "https://localhost:8080/"
        },
        "id": "v7pSKqr8LmhU",
        "outputId": "d5ec452e-52c2-4f9d-ba02-ed52f6f609e5"
      },
      "execution_count": 21,
      "outputs": [
        {
          "output_type": "stream",
          "name": "stdout",
          "text": [
            "[4]\n",
            "[2]\n",
            "[1]\n",
            "[3]\n",
            "[7]\n"
          ]
        }
      ]
    },
    {
      "cell_type": "markdown",
      "source": [
        "**Bottom view of binary tree**"
      ],
      "metadata": {
        "id": "JAXSOJzZOkak"
      }
    },
    {
      "cell_type": "code",
      "source": [
        "def Bottomview(root):\n",
        "  verticalpath={}\n",
        "  queue = [(root,0)]\n",
        "  while queue:\n",
        "    currentNode,verticalorder=queue[0]\n",
        "    queue.pop(0)\n",
        "    verticalpath[verticalorder]=[currentNode.data]\n",
        "    if currentNode.left:\n",
        "      queue.append((currentNode.left,verticalorder-1))\n",
        "    if currentNode.right:\n",
        "      queue.append((currentNode.right, verticalorder+1))\n",
        "  for key in sorted(verticalpath.keys()):\n",
        "    print(verticalpath[key])\n"
      ],
      "metadata": {
        "id": "5E9jh_UtLq0s"
      },
      "execution_count": 26,
      "outputs": []
    },
    {
      "cell_type": "code",
      "source": [
        "Bottomview(root)"
      ],
      "metadata": {
        "colab": {
          "base_uri": "https://localhost:8080/"
        },
        "id": "aLOGAvneQ49_",
        "outputId": "34981fdc-bf50-42eb-f8a8-104d8a629fde"
      },
      "execution_count": 27,
      "outputs": [
        {
          "output_type": "stream",
          "name": "stdout",
          "text": [
            "[4]\n",
            "[2]\n",
            "[6]\n",
            "[3]\n",
            "[7]\n"
          ]
        }
      ]
    },
    {
      "cell_type": "markdown",
      "source": [
        "**Right and Left view of binary tree**"
      ],
      "metadata": {
        "id": "229ic54mRIcc"
      }
    },
    {
      "cell_type": "code",
      "source": [
        ""
      ],
      "metadata": {
        "id": "lppIYLLWQ6w0"
      },
      "execution_count": null,
      "outputs": []
    }
  ]
}