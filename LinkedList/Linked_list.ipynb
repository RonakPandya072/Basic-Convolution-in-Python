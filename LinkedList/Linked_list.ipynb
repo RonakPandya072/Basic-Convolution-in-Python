{
  "nbformat": 4,
  "nbformat_minor": 0,
  "metadata": {
    "colab": {
      "name": "Linked list.ipynb",
      "provenance": [],
      "collapsed_sections": [],
      "authorship_tag": "ABX9TyPu4KPV3Mbje3Ul9CUJ0gn8",
      "include_colab_link": true
    },
    "kernelspec": {
      "name": "python3",
      "display_name": "Python 3"
    },
    "language_info": {
      "name": "python"
    }
  },
  "cells": [
    {
      "cell_type": "markdown",
      "metadata": {
        "id": "view-in-github",
        "colab_type": "text"
      },
      "source": [
        "<a href=\"https://colab.research.google.com/github/RonakPandya072/Basic-Convolution-in-Python/blob/main/LinkedList/Linked_list.ipynb\" target=\"_parent\"><img src=\"https://colab.research.google.com/assets/colab-badge.svg\" alt=\"Open In Colab\"/></a>"
      ]
    },
    {
      "cell_type": "code",
      "source": [
        "class Node:\n",
        "  def __init__(self,data):\n",
        "    self.data = data\n",
        "    self.next = None\n",
        "\n",
        "def Print(head):\n",
        "  temp = head\n",
        "  while temp:\n",
        "    print(temp.data,end=\"-->\")\n",
        "    temp = temp.next\n",
        "  print('None')"
      ],
      "metadata": {
        "id": "vcxiYoAaems2"
      },
      "execution_count": 5,
      "outputs": []
    },
    {
      "cell_type": "markdown",
      "source": [
        "Q.1 **Remove duplicate from the sorted linked list**"
      ],
      "metadata": {
        "id": "7S1cIsfZeffp"
      }
    },
    {
      "cell_type": "code",
      "source": [
        "def RemoveDuplicate(head):\n",
        "  current = head\n",
        "  while current.next:\n",
        "    if current.data == current.next.data:\n",
        "      #print(f\"before{current.data}\")\n",
        "      nexttonext = current.next.next\n",
        "      current.next = nexttonext\n",
        "      #print(f\"after{current.data}\")\n",
        "    else:\n",
        "      current = current.next\n",
        "  return head"
      ],
      "metadata": {
        "id": "cl1g9h5KhIgx"
      },
      "execution_count": null,
      "outputs": []
    },
    {
      "cell_type": "code",
      "source": [
        "var1 = Node(1)\n",
        "var2 = Node(2)\n",
        "var3 = Node(2)\n",
        "var4 = Node(2)\n",
        "var5 = Node(3)\n",
        "var1.next = var2\n",
        "var2.next = var3\n",
        "var3.next = var4\n",
        "var4.next = var5\n",
        "head = var1\n",
        "RemoveDuplicate(head)\n",
        "Print(head)"
      ],
      "metadata": {
        "colab": {
          "base_uri": "https://localhost:8080/"
        },
        "id": "47oxzXbFfygH",
        "outputId": "2564b46a-60d1-42c0-9473-61f5d25bacf9"
      },
      "execution_count": null,
      "outputs": [
        {
          "output_type": "stream",
          "name": "stdout",
          "text": [
            "1-->2-->3-->"
          ]
        }
      ]
    },
    {
      "cell_type": "markdown",
      "source": [
        "Q.2 **Split given linked list into two lists where each list containing alternating elements from it**"
      ],
      "metadata": {
        "id": "Bmn9a9eJkjSN"
      }
    },
    {
      "cell_type": "code",
      "source": [
        "def splitlist(head):\n",
        "  count = 0\n",
        "  A = B = None\n",
        "  temp = head\n",
        "  firsttimeA = firsttimeB = 1\n",
        "  while temp:\n",
        "    if count%2 == 0:\n",
        "      if firsttimeA == 1:\n",
        "        firsttimeA = 0\n",
        "        A = temp\n",
        "        tempA = A\n",
        "      else:\n",
        "        tempA.next = temp\n",
        "        tempA = temp\n",
        "    else:\n",
        "      if firsttimeB == 1:\n",
        "        firsttimeB=0\n",
        "        B = temp\n",
        "        tempB = B\n",
        "      else:\n",
        "        tempB.next = temp\n",
        "        tempB = temp\n",
        "      \n",
        "    temp = temp.next\n",
        "    count+=1\n",
        "\n",
        "  return (A,B)"
      ],
      "metadata": {
        "id": "NIAZ-7opkhyu"
      },
      "execution_count": null,
      "outputs": []
    },
    {
      "cell_type": "code",
      "source": [
        "var1 = Node(1)\n",
        "var2 = Node(2)\n",
        "var3 = Node(3)\n",
        "var4 = Node(4)\n",
        "var5 = Node(5)\n",
        "var1.next = var2\n",
        "var2.next = var3\n",
        "var3.next = var4\n",
        "var4.next = var5\n",
        "head = var1\n",
        "Print(splitlist(head)[0])"
      ],
      "metadata": {
        "colab": {
          "base_uri": "https://localhost:8080/"
        },
        "id": "WSnbnatVgN9R",
        "outputId": "22d488b8-7d5b-4ec6-8d6e-c7de1e3eb38e"
      },
      "execution_count": null,
      "outputs": [
        {
          "output_type": "stream",
          "name": "stdout",
          "text": [
            "1-->3-->5-->None\n"
          ]
        }
      ]
    },
    {
      "cell_type": "markdown",
      "source": [
        "Q.3 **Merge Sort Algorithm for Singly Linked List** (MIMP)"
      ],
      "metadata": {
        "id": "CJaOgWnEcysV"
      }
    },
    {
      "cell_type": "code",
      "source": [
        "var1 = Node(1)\n",
        "var2 = Node(2)\n",
        "var3 = Node(3)\n",
        "var4 = Node(5)\n",
        "var5 = Node(4)\n",
        "var1.next = var2\n",
        "var2.next = var3\n",
        "var3.next = var4\n",
        "var4.next = var5\n",
        "head = var1"
      ],
      "metadata": {
        "id": "TTyGBipaoFTp"
      },
      "execution_count": null,
      "outputs": []
    },
    {
      "cell_type": "code",
      "source": [
        "def sortedMerge(a, b):\n",
        " \n",
        "    # base cases\n",
        "    if a is None:\n",
        "        return b\n",
        "    elif b is None:\n",
        "        return a\n",
        " \n",
        "    # pick either `a` or `b`, and recur\n",
        "    if a.data <= b.data:\n",
        "        result = a\n",
        "        result.next = sortedMerge(a.next, b)\n",
        "    else:\n",
        "        result = b\n",
        "        result.next = sortedMerge(a, b.next)\n",
        " \n",
        "    return result\n",
        " \n",
        " \n",
        "'''\n",
        "    Split the given list's nodes into front and back halves,\n",
        "    If the length is odd, the extra node should go in the front list.\n",
        "    It uses the fast/slow pointer strategy\n",
        "'''\n",
        " \n",
        " \n",
        "def frontBackSplit(source):\n",
        " \n",
        "    # if the length is less than 2, handle it separately\n",
        "    if source is None or source.next is None:\n",
        "        return source, None\n",
        " \n",
        "    (slow, fast) = (source, source.next)\n",
        " \n",
        "    # advance `fast` two nodes, and advance `slow` one node\n",
        "    while fast:\n",
        " \n",
        "        fast = fast.next\n",
        "        if fast:\n",
        "            slow = slow.next\n",
        "            fast = fast.next\n",
        " \n",
        "    # `slow` is before the midpoint of the list, so split it in two\n",
        "    # at that point.\n",
        "    ret = (source, slow.next)\n",
        "    slow.next = None\n",
        " \n",
        "    return ret\n",
        " \n",
        " \n",
        "# Sort a given linked list using the merge sort algorithm\n",
        "def mergesort(head):\n",
        " \n",
        "    # base case — length 0 or 1\n",
        "    if head is None or head.next is None:\n",
        "        return head\n",
        " \n",
        "    # split `head` into `a` and `b` sublists\n",
        "    front, back = frontBackSplit(head)\n",
        " \n",
        "    # recursively sort the sublists\n",
        "    front = mergesort(front)\n",
        "    back = mergesort(back)\n",
        " \n",
        "    # answer = merge the two sorted lists\n",
        "    return sortedMerge(front, back)"
      ],
      "metadata": {
        "id": "03uHeKt9oU5C"
      },
      "execution_count": null,
      "outputs": []
    },
    {
      "cell_type": "code",
      "source": [
        "Print(mergesort(head))"
      ],
      "metadata": {
        "colab": {
          "base_uri": "https://localhost:8080/"
        },
        "id": "o4YrdgKjuRkz",
        "outputId": "a3a5d33b-427f-4bfb-f4ed-29bbd3060f2d"
      },
      "execution_count": null,
      "outputs": [
        {
          "output_type": "stream",
          "name": "stdout",
          "text": [
            "1-->2-->3-->4-->5-->None\n"
          ]
        }
      ]
    },
    {
      "cell_type": "markdown",
      "source": [
        "Q.4 **Merge two sorted linked lists into one**"
      ],
      "metadata": {
        "id": "S60JO2WM4wuv"
      }
    },
    {
      "cell_type": "code",
      "source": [
        "def addSortedlist(a,b):\n",
        "  if a is None:\n",
        "    return b\n",
        "  if b is None:\n",
        "    return a\n",
        "  else:\n",
        "    if a.data < b.data:\n",
        "      result = a\n",
        "      result.next = addSortedlist(a.next,b)\n",
        "    else:\n",
        "      result = b\n",
        "      result.next = addSortedlist(a,b.next)\n",
        "  return result"
      ],
      "metadata": {
        "id": "FxiZ40iXub62"
      },
      "execution_count": null,
      "outputs": []
    },
    {
      "cell_type": "code",
      "source": [
        "var1 = Node(1)\n",
        "var2 = Node(2)\n",
        "var3 = Node(3)\n",
        "var4 = Node(5)\n",
        "var5 = Node(4)\n",
        "var1.next = var4\n",
        "var2.next = var3\n",
        "var4.next = var5\n",
        "head1 = var1\n",
        "head2 = var2\n",
        "Print(addSortedlist(head1,head2))"
      ],
      "metadata": {
        "colab": {
          "base_uri": "https://localhost:8080/"
        },
        "id": "Yc5P-uJ35bhO",
        "outputId": "bf475a0b-a644-4159-ff7d-b7cf25971cfb"
      },
      "execution_count": null,
      "outputs": [
        {
          "output_type": "stream",
          "name": "stdout",
          "text": [
            "1-->2-->3-->5-->4-->None\n"
          ]
        }
      ]
    },
    {
      "cell_type": "markdown",
      "source": [
        "Q.5 **Intersection of two given sorted linked lists**"
      ],
      "metadata": {
        "id": "sgRsxxz-53L8"
      }
    },
    {
      "cell_type": "code",
      "source": [
        "def intersection(a,b):\n",
        "  result = None\n",
        "  current = None\n",
        "  while a and b:\n",
        "    if a.data == b.data:\n",
        "      if result is None:\n",
        "        result = a\n",
        "        current = a\n",
        "      else:\n",
        "        current.next = a\n",
        "        current = a\n",
        "      a = a.next\n",
        "      b = b.next\n",
        "    \n",
        "    elif a.data < b.data:\n",
        "      a = a.next\n",
        "    else:\n",
        "      b = b.next\n",
        "\n",
        "  return result   "
      ],
      "metadata": {
        "id": "kwk13cmV5xml"
      },
      "execution_count": null,
      "outputs": []
    },
    {
      "cell_type": "code",
      "source": [
        "\n",
        "var1 = Node(1)\n",
        "var2 = Node(2)\n",
        "var3 = Node(3)\n",
        "var4 = Node(4)\n",
        "var5 = Node(5)\n",
        "var6 = Node(2)\n",
        "var7 = Node(3)\n",
        "var1.next = var2\n",
        "var2.next = var3\n",
        "var3.next = var4\n",
        "var4.next = var5\n",
        "var6.next = var7\n",
        "head1 = var1\n",
        "head2 = var6\n",
        "Print(intersection(head1,head2))"
      ],
      "metadata": {
        "colab": {
          "base_uri": "https://localhost:8080/"
        },
        "id": "XayZtk9H8mEB",
        "outputId": "ce07518f-dbfe-4da8-a298-3703d50b352a"
      },
      "execution_count": null,
      "outputs": [
        {
          "output_type": "stream",
          "name": "stdout",
          "text": [
            "2-->3-->4-->5-->None\n"
          ]
        }
      ]
    },
    {
      "cell_type": "markdown",
      "source": [
        "**Reverse the linked list**"
      ],
      "metadata": {
        "id": "IQUvsr_0tA76"
      }
    },
    {
      "cell_type": "code",
      "source": [
        "def ReverseLL(head):\n",
        "  current = head\n",
        "  previous = None\n",
        "  while current:\n",
        "    nextNode = current.next\n",
        "    current.next = previous\n",
        "    previous = current\n",
        "    current = nextNode\n",
        "  return previous"
      ],
      "metadata": {
        "id": "QjlgWUY79A83"
      },
      "execution_count": null,
      "outputs": []
    },
    {
      "cell_type": "code",
      "source": [
        "var1 = Node(1)\n",
        "var2 = Node(2)\n",
        "var3 = Node(3)\n",
        "var4 = Node(4)\n",
        "var5 = Node(5)\n",
        "var1.next = var2\n",
        "var2.next = var3\n",
        "var3.next = var4\n",
        "var4.next = var5\n",
        "head = var1\n",
        "Print(ReverseLL(head))"
      ],
      "metadata": {
        "colab": {
          "base_uri": "https://localhost:8080/"
        },
        "id": "1ms48jvftjkM",
        "outputId": "ee9d2130-3a57-4468-af80-6a09ce0616c6"
      },
      "execution_count": null,
      "outputs": [
        {
          "output_type": "stream",
          "name": "stdout",
          "text": [
            "5-->4-->3-->2-->1-->None\n"
          ]
        }
      ]
    },
    {
      "cell_type": "markdown",
      "source": [
        "**Reverse every group of k nodes in given linked list**"
      ],
      "metadata": {
        "id": "rEol4o6_t-_D"
      }
    },
    {
      "cell_type": "code",
      "source": [
        "def solution(head,k):\n",
        "   newhead = reverseKgroupsofNode(head,k)\n",
        "   return newhead\n",
        "\n",
        "def reverseKgroupsofNode(head,k):\n",
        "  count = 0\n",
        "  current = head\n",
        "  previous = None\n",
        "  while current and count < k:\n",
        "    nextNode = current.next\n",
        "    current.next = previous\n",
        "    previous = current\n",
        "    current = nextNode\n",
        "    count+=1\n",
        "  #VIMP step\n",
        "  head.next = reverseKgroupsofNode(current,k)\n",
        "  return previous\n"
      ],
      "metadata": {
        "id": "laYBm5PA0Tvg"
      },
      "execution_count": null,
      "outputs": []
    },
    {
      "cell_type": "markdown",
      "source": [
        "**Find K’th node from the end in a linked list**"
      ],
      "metadata": {
        "id": "LQqZgI-93YRI"
      }
    },
    {
      "cell_type": "code",
      "source": [
        "def lastKthNode(head,k):\n",
        "  temp_1 = temp_2 = head\n",
        "  i = 0\n",
        "  while i < (k-1):\n",
        "    temp_2 = temp_2.next\n",
        "    i+=1\n",
        "  \n",
        "  while temp_2.next:\n",
        "    temp_2 = temp_2.next\n",
        "    temp_1 = temp_1.next\n",
        "  \n",
        "  return(temp_1.data)"
      ],
      "metadata": {
        "id": "hJKAl0QM2uDU"
      },
      "execution_count": null,
      "outputs": []
    },
    {
      "cell_type": "code",
      "source": [
        "var1 = Node(1)\n",
        "var2 = Node(2)\n",
        "var3 = Node(3)\n",
        "var4 = Node(4)\n",
        "var5 = Node(5)\n",
        "var1.next = var2\n",
        "var2.next = var3\n",
        "var3.next = var4\n",
        "var4.next = var5\n",
        "head = var1\n",
        "Print(head)\n",
        "lastKthNode(head,2)"
      ],
      "metadata": {
        "colab": {
          "base_uri": "https://localhost:8080/"
        },
        "id": "oSFVLeMx4vep",
        "outputId": "477870ea-dbee-4fb7-e4b6-460627f3db8c"
      },
      "execution_count": null,
      "outputs": [
        {
          "output_type": "stream",
          "name": "stdout",
          "text": [
            "1-->2-->3-->4-->5-->None\n"
          ]
        },
        {
          "output_type": "execute_result",
          "data": {
            "text/plain": [
              "4"
            ]
          },
          "metadata": {},
          "execution_count": 31
        }
      ]
    },
    {
      "cell_type": "markdown",
      "source": [
        "**Delete every N nodes in a linked list after skipping M nodes**"
      ],
      "metadata": {
        "id": "BNUt4zD46av8"
      }
    },
    {
      "cell_type": "code",
      "source": [
        "def Nnodeskipping(head,m,n):\n",
        "  temp_1 = head\n",
        "  temp_2 = temp_1.next\n",
        "  #print(temp_1.data, temp_2.data)\n",
        "  #print(temp_2.next.next.data)\n",
        "  while temp_2.next:\n",
        "    i = 0 \n",
        "    while i < m and m > 1:\n",
        "      i+=1\n",
        "      temp_2 = temp_2.next\n",
        "      temp_1 = temp_1.next\n",
        "          \n",
        "    j = 0\n",
        "    while j < n:\n",
        "      temp_2 = temp_2.next\n",
        "      j+=1\n",
        "\n",
        "    temp_1.next = temp_2\n",
        "    temp_1 = temp_2\n",
        "    temp_2 = temp_2.next\n",
        "\n",
        "  return head\n"
      ],
      "metadata": {
        "id": "G3kktwIA41Fm"
      },
      "execution_count": null,
      "outputs": []
    },
    {
      "cell_type": "code",
      "source": [
        "var1 = Node(1)\n",
        "var2 = Node(2)\n",
        "var3 = Node(3)\n",
        "var4 = Node(4)\n",
        "var5 = Node(5)\n",
        "var1.next = var2\n",
        "var2.next = var3\n",
        "var3.next = var4\n",
        "var4.next = var5\n",
        "head = var1\n",
        "\n",
        "Print(Nnodeskipping(head,1,2))\n"
      ],
      "metadata": {
        "colab": {
          "base_uri": "https://localhost:8080/"
        },
        "id": "nUEkrqsk9ky4",
        "outputId": "96387c78-91f5-496b-c1a7-b3d7285ff869"
      },
      "execution_count": null,
      "outputs": [
        {
          "output_type": "stream",
          "name": "stdout",
          "text": [
            "1-->4-->5-->None\n"
          ]
        }
      ]
    },
    {
      "cell_type": "markdown",
      "source": [
        "**Check if linked list is palindrome or not**"
      ],
      "metadata": {
        "id": "Ta2dRzW8Ctg2"
      }
    },
    {
      "cell_type": "code",
      "source": [
        "def Checkpalindrome(head):\n",
        "  even = 0\n",
        "  slow = head\n",
        "  fast = head\n",
        "  previous = None\n",
        "  while fast and fast.next:\n",
        "    fast = fast.next.next\n",
        "    previous = slow\n",
        "    slow = slow.next\n",
        "    \n",
        "  \n",
        "  if fast.next:\n",
        "    even = 1\n",
        "  slow = slow.next\n",
        "  previous.next = None\n",
        "\n",
        "  slow = ReverseLL(slow)\n",
        "\n",
        "  return compareValues(head,slow)\n",
        "\n",
        "def compareValues(a,b):\n",
        "  while a: \n",
        "    if a.data == b.data:\n",
        "      a = a.next\n",
        "      b = b.next\n",
        "    else:\n",
        "      print(\"No Palindrom!\")\n",
        "      return False\n",
        "  return True"
      ],
      "metadata": {
        "id": "uvp9ObsO9qes"
      },
      "execution_count": null,
      "outputs": []
    },
    {
      "cell_type": "code",
      "source": [
        "var1 = Node(1)\n",
        "var2 = Node(2)\n",
        "var3 = Node(3)\n",
        "var4 = Node(2)\n",
        "var5 = Node(1)\n",
        "var1.next = var2\n",
        "var2.next = var3\n",
        "var3.next = var4\n",
        "var4.next = var5\n",
        "head = var1\n",
        "Checkpalindrome(head)"
      ],
      "metadata": {
        "colab": {
          "base_uri": "https://localhost:8080/"
        },
        "id": "A-loaC_5H7me",
        "outputId": "4347db27-0639-4b92-c00d-c766c03f5696"
      },
      "execution_count": null,
      "outputs": [
        {
          "output_type": "execute_result",
          "data": {
            "text/plain": [
              "True"
            ]
          },
          "metadata": {},
          "execution_count": 77
        }
      ]
    },
    {
      "cell_type": "markdown",
      "source": [
        "**Move last node to front in a given Linked List**"
      ],
      "metadata": {
        "id": "toN9lu47IeOs"
      }
    },
    {
      "cell_type": "code",
      "source": [
        "def lastFirst(head):\n",
        "  previous = None\n",
        "  current = head\n",
        "  if head is None or head.next is None:\n",
        "    return head\n",
        "    \n",
        "  while current.next:\n",
        "    previous  = current\n",
        "    current = current.next\n",
        "  current.next = head\n",
        "  previous.next = None\n",
        "\n",
        "  return current"
      ],
      "metadata": {
        "id": "EkUTXdTWIFni"
      },
      "execution_count": null,
      "outputs": []
    },
    {
      "cell_type": "code",
      "source": [
        "var1 = Node(1)\n",
        "var2 = Node(2)\n",
        "var3 = Node(3)\n",
        "var4 = Node(4)\n",
        "var5 = Node(5)\n",
        "var1.next = var2\n",
        "var2.next = var3\n",
        "var3.next = var4\n",
        "var4.next = var5\n",
        "head = var1\n",
        "\n",
        "Print(lastFirst(head))"
      ],
      "metadata": {
        "colab": {
          "base_uri": "https://localhost:8080/"
        },
        "id": "cUeR-ZCTJXsM",
        "outputId": "db49becd-be6a-41d6-e2f3-14ed5d8e9c0a"
      },
      "execution_count": null,
      "outputs": [
        {
          "output_type": "stream",
          "name": "stdout",
          "text": [
            "5-->1-->2-->3-->4-->None\n"
          ]
        }
      ]
    },
    {
      "cell_type": "markdown",
      "source": [
        "**Detect Cycle in a linked list (Floyd’s Cycle Detection Algorithm)**MMIMP question"
      ],
      "metadata": {
        "id": "R2CoYvRpKSsH"
      }
    },
    {
      "cell_type": "code",
      "source": [
        "def DetectCycle(head):\n",
        "  slow = fast = head\n",
        "  if head is None or head.next is None:\n",
        "    return False\n",
        "  \n",
        "  while fast:\n",
        "    fast = fast.next.next\n",
        "    slow = slow.next\n",
        "    if fast == slow:\n",
        "      print(\"Cycle exsist\")\n",
        "      return True\n",
        "  return False"
      ],
      "metadata": {
        "id": "2_DEbrEbJl31"
      },
      "execution_count": null,
      "outputs": []
    },
    {
      "cell_type": "code",
      "source": [
        "var1 = Node(1)\n",
        "var2 = Node(2)\n",
        "var3 = Node(3)\n",
        "var4 = Node(4)\n",
        "var5 = Node(5)\n",
        "var1.next = var2\n",
        "var2.next = var3\n",
        "var3.next = var4\n",
        "var4.next = var5\n",
        "var5.next = var3\n",
        "head = var1\n",
        "DetectCycle(head)"
      ],
      "metadata": {
        "colab": {
          "base_uri": "https://localhost:8080/"
        },
        "id": "p6KVJWTIMHWO",
        "outputId": "7459e479-35af-4f92-cdaf-04fe46e8c333"
      },
      "execution_count": null,
      "outputs": [
        {
          "output_type": "stream",
          "name": "stdout",
          "text": [
            "Cycle exsist\n"
          ]
        },
        {
          "output_type": "execute_result",
          "data": {
            "text/plain": [
              "True"
            ]
          },
          "metadata": {},
          "execution_count": 84
        }
      ]
    },
    {
      "cell_type": "markdown",
      "source": [
        "**Sort linked list containing 0’s, 1’s and 2’s**"
      ],
      "metadata": {
        "id": "RPD7_nJwMVm2"
      }
    },
    {
      "cell_type": "code",
      "source": [
        "def sort012(head):\n",
        "  #dummy nodes\n",
        "  first, second, third = Node(7),Node(7),Node(7)\n",
        "  zero, one, two = first, second, third\n",
        "  current = head\n",
        "  while current:\n",
        "    if current.data == 0:\n",
        "      zero.next = current\n",
        "      zero = zero.next\n",
        "    elif current.data == 1:\n",
        "      one.next = current\n",
        "      one = one.next\n",
        "    else:\n",
        "      two.next = current\n",
        "      two = two.next\n",
        "    current = current.next\n",
        "  head = None\n",
        "  head = first.next\n",
        "  zero.next = second.next\n",
        "  one.next = third.next\n",
        "  return head"
      ],
      "metadata": {
        "id": "SF4p2gimi3-_"
      },
      "execution_count": 21,
      "outputs": []
    },
    {
      "cell_type": "code",
      "source": [
        "var1 = Node(0)\n",
        "var2 = Node(1)\n",
        "var3 = Node(0)\n",
        "var4 = Node(2)\n",
        "var5 = Node(1)\n",
        "var6 = Node(2)\n",
        "var1.next = var2\n",
        "var2.next = var3\n",
        "var3.next = var4\n",
        "var4.next = var5\n",
        "var5.next = var6\n",
        "head = var1\n",
        "Print(head)"
      ],
      "metadata": {
        "colab": {
          "base_uri": "https://localhost:8080/"
        },
        "id": "7PcIUhgTmXr-",
        "outputId": "fca61429-d6f1-463a-abe6-44e4bdccaed7"
      },
      "execution_count": 22,
      "outputs": [
        {
          "output_type": "stream",
          "name": "stdout",
          "text": [
            "0-->1-->0-->2-->1-->2-->None\n"
          ]
        }
      ]
    },
    {
      "cell_type": "code",
      "source": [
        "Print(sort012(head))"
      ],
      "metadata": {
        "colab": {
          "base_uri": "https://localhost:8080/"
        },
        "id": "iCWvuI4dmnZS",
        "outputId": "2a3e5075-9090-486a-dd50-7a7b5e055eeb"
      },
      "execution_count": 23,
      "outputs": [
        {
          "output_type": "stream",
          "name": "stdout",
          "text": [
            "0-->0-->1-->1-->2-->2-->None\n"
          ]
        }
      ]
    },
    {
      "cell_type": "markdown",
      "source": [
        "**Implement Stack using Linked List**"
      ],
      "metadata": {
        "id": "Zf53YP4kofhW"
      }
    },
    {
      "cell_type": "code",
      "source": [
        "class stack:\n",
        "  def __init__(self):\n",
        "    self.top = None\n",
        "    self.length = 0\n",
        "\n",
        "  def push(self, value):\n",
        "    newNode = Node(value)\n",
        "    if self.top is None:\n",
        "      self.top = newNode\n",
        "    else:\n",
        "      newNode.next = self.top\n",
        "      self.top = newNode\n",
        "    self.length+=1\n",
        "    return self.top\n",
        "  \n",
        "  def pop(self):\n",
        "    if self.top is None:\n",
        "      return \"Stack underflow\"\n",
        "    else:\n",
        "      temp = self.top\n",
        "      self.top = self.top.next\n",
        "      self.length-=1\n",
        "      return temp.data\n",
        "\n",
        "  def peep(self):\n",
        "    if self.top is None:\n",
        "       return \"Stack underflow\"\n",
        "    topmostvalue = self.top.data\n",
        "    return topmostvalue\n",
        "\n",
        "  def print_stack(self):\n",
        "    current = self.top\n",
        "    while current:\n",
        "      print(current.data, end='-->')\n",
        "      current= current.next\n",
        "    print('None')\n"
      ],
      "metadata": {
        "id": "__s1DmhonMvd"
      },
      "execution_count": 37,
      "outputs": []
    },
    {
      "cell_type": "code",
      "source": [
        "S = stack()\n",
        "S.push(2)\n",
        "S.push(3)\n",
        "S.push(85)\n",
        "S.print_stack()\n",
        "S.pop()\n",
        "S.print_stack()"
      ],
      "metadata": {
        "colab": {
          "base_uri": "https://localhost:8080/"
        },
        "id": "HO3a8-g5vtvz",
        "outputId": "d2ee6c2a-72e5-4b05-bf92-0e1348a057d8"
      },
      "execution_count": 42,
      "outputs": [
        {
          "output_type": "stream",
          "name": "stdout",
          "text": [
            "85-->3-->2-->None\n",
            "3-->2-->None\n"
          ]
        }
      ]
    },
    {
      "cell_type": "markdown",
      "source": [
        "**Implement Queue using Linked List**"
      ],
      "metadata": {
        "id": "eAjilljdvpJu"
      }
    },
    {
      "cell_type": "code",
      "source": [
        "class queue:\n",
        "  def __init__(self):\n",
        "    self.front = None\n",
        "    self.rear = None\n",
        "    self.length = 0\n",
        "  \n",
        "  def enqueue(self, value):\n",
        "    newNode = Node(value)\n",
        "    if self.front is None:\n",
        "      self.rear = self.front = newNode\n",
        "    self.rear.next = newNode\n",
        "    self.raer = newNode\n",
        "    self.length+=1\n",
        "  \n",
        "  def dequeue(self):\n",
        "    if self.front is None:\n",
        "      return 'Under flow'\n",
        "    valuetoremove = self.front\n",
        "    self.front = self.front.next\n",
        "    self.length-=1\n",
        "  \n",
        "  def display(self):\n",
        "    temp = self.front\n",
        "    while temp:\n",
        "      print(temp.data, end='-->')\n",
        "      temp = temp.next\n",
        "    print('None')"
      ],
      "metadata": {
        "id": "zuVCzhxCvode"
      },
      "execution_count": 43,
      "outputs": []
    },
    {
      "cell_type": "code",
      "source": [
        "q = queue()\n",
        "q.enqueue(5)\n",
        "q.enqueue(58)\n",
        "q.display()\n",
        "q.dequeue()\n",
        "print('After dequeing')\n",
        "q.display()"
      ],
      "metadata": {
        "colab": {
          "base_uri": "https://localhost:8080/"
        },
        "id": "rzlRfy_P2xxq",
        "outputId": "2f7e5bce-bcac-45ab-8f18-0139967e7439"
      },
      "execution_count": 46,
      "outputs": [
        {
          "output_type": "stream",
          "name": "stdout",
          "text": [
            "5-->58-->None\n",
            "After dequeing\n",
            "58-->None\n"
          ]
        }
      ]
    },
    {
      "cell_type": "markdown",
      "source": [
        "**Remove duplicates from a linked list**"
      ],
      "metadata": {
        "id": "-Fr1uWLm3IJJ"
      }
    },
    {
      "cell_type": "code",
      "source": [
        "\n"
      ],
      "metadata": {
        "id": "nKWQAzM8273m"
      },
      "execution_count": null,
      "outputs": []
    }
  ]
}